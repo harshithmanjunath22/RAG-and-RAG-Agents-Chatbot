{
 "cells": [
  {
   "cell_type": "code",
   "execution_count": 66,
   "metadata": {},
   "outputs": [],
   "source": [
    "import os\n",
    "from langchain_openai import OpenAI"
   ]
  },
  {
   "cell_type": "code",
   "execution_count": 127,
   "metadata": {},
   "outputs": [],
   "source": [
    "#from langchain.chat_models import AzureChatOpenAI\n",
    "from langchain_openai import AzureChatOpenAI\n",
    "\n",
    "gpt = AzureChatOpenAI(\n",
    "    azure_deployment=\"gpt-35-turbo-1106\",\n",
    "    openai_api_key=\"api key\",\n",
    "    openai_api_type=\"azure\",\n",
    "    openai_api_version=\"2023-12-01-preview\",\n",
    "    azure_endpoint=\"https://chatbotopenaikeyswe.openai.azure.com/\",\n",
    "    verbose=True,\n",
    ")"
   ]
  },
  {
   "cell_type": "code",
   "execution_count": 128,
   "metadata": {},
   "outputs": [],
   "source": [
    "from langchain_community.document_loaders import DirectoryLoader\n",
    "from langchain_community.document_loaders import CSVLoader\n",
    "path = \"C:/Users/Admin/Desktop/hsag chatbot/ragcsvdata\"\n",
    "csv_loader_kwargs={'autodetect_encoding': True}\n",
    "loader = DirectoryLoader(path, glob=\"**/*.csv\", loader_cls=CSVLoader, loader_kwargs=csv_loader_kwargs)\n",
    "db = loader.load()"
   ]
  },
  {
   "cell_type": "code",
   "execution_count": 129,
   "metadata": {},
   "outputs": [
    {
     "name": "stderr",
     "output_type": "stream",
     "text": [
      "Fetching pages: 100%|##########| 1/1 [00:00<00:00,  2.62it/s]\n"
     ]
    }
   ],
   "source": [
    "from langchain_community.document_loaders import AsyncHtmlLoader\n",
    "\n",
    "urls = [\"https://www.thuega-energie-gmbh.de/privatkunden.html\"]\n",
    "loader = AsyncHtmlLoader(urls)\n",
    "docs = loader.load()\n",
    "\n",
    "from langchain_community.document_transformers import Html2TextTransformer\n",
    "\n",
    "html2text = Html2TextTransformer()\n",
    "db += html2text.transform_documents(docs)"
   ]
  },
  {
   "cell_type": "code",
   "execution_count": 130,
   "metadata": {},
   "outputs": [],
   "source": [
    "import bs4\n",
    "from langchain import hub\n",
    "from langchain_community.document_loaders import WebBaseLoader\n",
    "from langchain_community.vectorstores import Chroma\n",
    "from langchain_core.output_parsers import StrOutputParser\n",
    "from langchain_core.runnables import RunnablePassthrough\n",
    "from langchain_openai import ChatOpenAI, OpenAIEmbeddings\n",
    "from langchain_text_splitters import RecursiveCharacterTextSplitter"
   ]
  },
  {
   "cell_type": "code",
   "execution_count": 131,
   "metadata": {},
   "outputs": [],
   "source": [
    "text_splitter = RecursiveCharacterTextSplitter(\n",
    "    chunk_size=2000,\n",
    "    chunk_overlap=200,\n",
    "    length_function=len,\n",
    "    is_separator_regex=False,\n",
    ")"
   ]
  },
  {
   "cell_type": "code",
   "execution_count": 132,
   "metadata": {},
   "outputs": [],
   "source": [
    "texts = text_splitter.split_documents(db)"
   ]
  },
  {
   "cell_type": "code",
   "execution_count": 133,
   "metadata": {},
   "outputs": [],
   "source": [
    "from langchain_openai import AzureOpenAIEmbeddings\n",
    "embed = AzureOpenAIEmbeddings(\n",
    "    azure_deployment=\"text-embedding-ada-002\",\n",
    "    openai_api_key=\"api key\",\n",
    "    azure_endpoint=\"https://chatbotopenaikeyswe.openai.azure.com/\"\n",
    ")"
   ]
  },
  {
   "cell_type": "code",
   "execution_count": 134,
   "metadata": {},
   "outputs": [],
   "source": [
    "#vectorstore = Chroma.from_documents(texts, embed, persist_directory=\"C:/chroma_db\")\n",
    "#vectorstore.persist()\n",
    "\n",
    "vectorstore2 = Chroma(persist_directory=\"C:/chroma_db\", embedding_function=embed)\n",
    "retriever = vectorstore2.as_retriever(search_type=\"similarity\", search_kwargs={\"k\":3})"
   ]
  },
  {
   "cell_type": "code",
   "execution_count": 137,
   "metadata": {},
   "outputs": [],
   "source": [
    "from langchain.prompts import ChatPromptTemplate\n",
    "\n",
    "template = \"\"\"\n",
    "You are an assistant named \"hsag-chatbot\" for question-answering tasks \n",
    "related to the Energy industry and general conversation. \n",
    "\n",
    "If the question is related to the energy domain try to answer the question from the knowledge \n",
    "you have in your memory.\n",
    "\n",
    "Use the following pieces of retrieved context to answer the question \n",
    "or engage in small talk with the user in a friendly and informative way. \n",
    "If you don't know the answer to a factual question, \n",
    "just say that you don't know. \n",
    "Use three sentences maximum and keep the answer concise. \n",
    "If the user asks funny questions or jokes, try to answer them \n",
    "using your knowledge or generate a humorous response. \n",
    "If they ask general knowledge about the world, try to answer \n",
    "those questions using your knowledge and also domain-specific knowledge \n",
    "about the energy industry. \n",
    "\n",
    "\n",
    "Context:\n",
    "{context}\n",
    "\n",
    "Question:\n",
    "{question}\n",
    "\"\"\"\n",
    "\n",
    "prompt = ChatPromptTemplate.from_template(template)"
   ]
  },
  {
   "cell_type": "code",
   "execution_count": 138,
   "metadata": {},
   "outputs": [],
   "source": [
    "from operator import itemgetter\n",
    "\n",
    "from langchain_openai import ChatOpenAI\n",
    "from langchain_core.output_parsers import StrOutputParser\n",
    "from langchain_core.runnables import RunnablePassthrough\n",
    "\n",
    "llm_model = gpt\n",
    "\n",
    "rag_chain = (\n",
    "    {\"context\": itemgetter(\"question\") | retriever, \"question\": itemgetter(\"question\")}\n",
    "    | RunnablePassthrough.assign(context=itemgetter(\"context\"))\n",
    "    | {\"response\": prompt | llm_model, \"context\": itemgetter(\"context\")}\n",
    ")"
   ]
  },
  {
   "cell_type": "code",
   "execution_count": 165,
   "metadata": {},
   "outputs": [
    {
     "name": "stdout",
     "output_type": "stream",
     "text": [
      "The gas contract number for the customer named Sebastian is ES00000062980, the IBAN is DE89370400440532013000, the street is Schmiedeweg, the start of the contract is on 2022-03-14, and the city is Lauenburg.\n"
     ]
    }
   ],
   "source": [
    "question = \"What is the Gas contract number, IBAN, street,  start of the contract, city,of the customer named Sebastian?\"\n",
    "result = rag_chain.invoke({\"question\" : question})\n",
    "print(result[\"response\"].content)\n",
    "#print(result[\"context\"])"
   ]
  },
  {
   "cell_type": "markdown",
   "metadata": {},
   "source": [
    "RAGAS EVALUATION\n"
   ]
  },
  {
   "cell_type": "code",
   "execution_count": 140,
   "metadata": {},
   "outputs": [
    {
     "data": {
      "text/html": [
       "<div>\n",
       "<style scoped>\n",
       "    .dataframe tbody tr th:only-of-type {\n",
       "        vertical-align: middle;\n",
       "    }\n",
       "\n",
       "    .dataframe tbody tr th {\n",
       "        vertical-align: top;\n",
       "    }\n",
       "\n",
       "    .dataframe thead th {\n",
       "        text-align: right;\n",
       "    }\n",
       "</style>\n",
       "<table border=\"1\" class=\"dataframe\">\n",
       "  <thead>\n",
       "    <tr style=\"text-align: right;\">\n",
       "      <th></th>\n",
       "      <th>question</th>\n",
       "      <th>contexts</th>\n",
       "      <th>ground_truth</th>\n",
       "      <th>evolution_type</th>\n",
       "    </tr>\n",
       "  </thead>\n",
       "  <tbody>\n",
       "    <tr>\n",
       "      <th>0</th>\n",
       "      <td>What is the Gas contract number of the custome...</td>\n",
       "      <td>contractNumber: ES00000062980\\nsection: Gas\\ni...</td>\n",
       "      <td>The gas contract number for the customer named...</td>\n",
       "      <td>simple</td>\n",
       "    </tr>\n",
       "    <tr>\n",
       "      <th>1</th>\n",
       "      <td>What is the meter number for meterId 1244 and ...</td>\n",
       "      <td>['registerId: 1\\nobis: 1-1:1.8.1\\nlabel: HT\\ne...</td>\n",
       "      <td>The meter number for meterId 1244 is ZEI2332DE...</td>\n",
       "      <td>simple</td>\n",
       "    </tr>\n",
       "    <tr>\n",
       "      <th>2</th>\n",
       "      <td>What is the Gas contract number, IBAN, street,...</td>\n",
       "      <td>contractNumber: ES00000062980\\nsection: Gas\\ni...</td>\n",
       "      <td>The Gas contract number is ES00000062980, the ...</td>\n",
       "      <td>simple</td>\n",
       "    </tr>\n",
       "    <tr>\n",
       "      <th>3</th>\n",
       "      <td>What is the purpose of the charging instructio...</td>\n",
       "      <td>['id: chargingInstruction\\nSkillName: EMobilit...</td>\n",
       "      <td>The purpose of the charging instruction in the...</td>\n",
       "      <td>reasoning</td>\n",
       "    </tr>\n",
       "    <tr>\n",
       "      <th>4</th>\n",
       "      <td>What services does Thuga Energie provide as a ...</td>\n",
       "      <td>['kWh im Jahr\\n\\nAktionscode\\n\\nLeider wird di...</td>\n",
       "      <td>Thuga Energie provides innovative products suc...</td>\n",
       "      <td>multicontext</td>\n",
       "    </tr>\n",
       "    <tr>\n",
       "      <th>5</th>\n",
       "      <td>What are the details of the meter with meterId...</td>\n",
       "      <td>['meterId: 1244\\nmeterNumber: ZEI2332DE2\\nsect...</td>\n",
       "      <td>The details of the meter with meterId 1244 in ...</td>\n",
       "      <td>multicontext</td>\n",
       "    </tr>\n",
       "    <tr>\n",
       "      <th>6</th>\n",
       "      <td>What options are there for making changes in o...</td>\n",
       "      <td>['conversationId: 4oBqHMWVxLO3xJrrHxQWIX-eu\\nt...</td>\n",
       "      <td>The Kundenportal offers the option to make cha...</td>\n",
       "      <td>reasoning</td>\n",
       "    </tr>\n",
       "    <tr>\n",
       "      <th>7</th>\n",
       "      <td>How do I delete historical meter readings and ...</td>\n",
       "      <td>['answerId: 103165\\ntext: Um **historische Zäh...</td>\n",
       "      <td>To delete historical meter readings, it is bes...</td>\n",
       "      <td>multicontext</td>\n",
       "    </tr>\n",
       "    <tr>\n",
       "      <th>8</th>\n",
       "      <td>What are the service hours for the Kundenzentr...</td>\n",
       "      <td>['__ Facebook\\n\\n__ Instagram\\n\\n**Kundenzentr...</td>\n",
       "      <td>The service hours for the Kundenzentrum in Sud...</td>\n",
       "      <td>multicontext</td>\n",
       "    </tr>\n",
       "    <tr>\n",
       "      <th>9</th>\n",
       "      <td>Where can I find the meter number for my elect...</td>\n",
       "      <td>['conversationId: 43OIHyE5TDoJGpDL51TIEd-eu\\nt...</td>\n",
       "      <td>You can find the meter number for your electri...</td>\n",
       "      <td>simple</td>\n",
       "    </tr>\n",
       "  </tbody>\n",
       "</table>\n",
       "</div>"
      ],
      "text/plain": [
       "                                            question  \\\n",
       "0  What is the Gas contract number of the custome...   \n",
       "1  What is the meter number for meterId 1244 and ...   \n",
       "2  What is the Gas contract number, IBAN, street,...   \n",
       "3  What is the purpose of the charging instructio...   \n",
       "4  What services does Thuga Energie provide as a ...   \n",
       "5  What are the details of the meter with meterId...   \n",
       "6  What options are there for making changes in o...   \n",
       "7  How do I delete historical meter readings and ...   \n",
       "8  What are the service hours for the Kundenzentr...   \n",
       "9  Where can I find the meter number for my elect...   \n",
       "\n",
       "                                            contexts  \\\n",
       "0  contractNumber: ES00000062980\\nsection: Gas\\ni...   \n",
       "1  ['registerId: 1\\nobis: 1-1:1.8.1\\nlabel: HT\\ne...   \n",
       "2  contractNumber: ES00000062980\\nsection: Gas\\ni...   \n",
       "3  ['id: chargingInstruction\\nSkillName: EMobilit...   \n",
       "4  ['kWh im Jahr\\n\\nAktionscode\\n\\nLeider wird di...   \n",
       "5  ['meterId: 1244\\nmeterNumber: ZEI2332DE2\\nsect...   \n",
       "6  ['conversationId: 4oBqHMWVxLO3xJrrHxQWIX-eu\\nt...   \n",
       "7  ['answerId: 103165\\ntext: Um **historische Zäh...   \n",
       "8  ['__ Facebook\\n\\n__ Instagram\\n\\n**Kundenzentr...   \n",
       "9  ['conversationId: 43OIHyE5TDoJGpDL51TIEd-eu\\nt...   \n",
       "\n",
       "                                        ground_truth evolution_type  \n",
       "0  The gas contract number for the customer named...         simple  \n",
       "1  The meter number for meterId 1244 is ZEI2332DE...         simple  \n",
       "2  The Gas contract number is ES00000062980, the ...         simple  \n",
       "3  The purpose of the charging instruction in the...      reasoning  \n",
       "4  Thuga Energie provides innovative products suc...   multicontext  \n",
       "5  The details of the meter with meterId 1244 in ...   multicontext  \n",
       "6  The Kundenportal offers the option to make cha...      reasoning  \n",
       "7  To delete historical meter readings, it is bes...   multicontext  \n",
       "8  The service hours for the Kundenzentrum in Sud...   multicontext  \n",
       "9  You can find the meter number for your electri...         simple  "
      ]
     },
     "execution_count": 140,
     "metadata": {},
     "output_type": "execute_result"
    }
   ],
   "source": [
    "import pandas as pd\n",
    "\n",
    "# Load the CSV file into a DataFrame with UTF-8 encoding\n",
    "test_df = pd.read_csv('C:/Users/Admin/Desktop/hsag chatbot/ragashsagtestset.csv', encoding='utf-8')\n",
    "test_df"
   ]
  },
  {
   "cell_type": "code",
   "execution_count": 42,
   "metadata": {},
   "outputs": [
    {
     "name": "stdout",
     "output_type": "stream",
     "text": [
      "Collecting ragasNote: you may need to restart the kernel to use updated packages.\n"
     ]
    },
    {
     "name": "stderr",
     "output_type": "stream",
     "text": [
      "  WARNING: The script huggingface-cli.exe is installed in 'c:\\Users\\Admin\\AppData\\Local\\Programs\\Python\\Python312\\Scripts' which is not on PATH.\n",
      "  Consider adding this directory to PATH or, if you prefer to suppress this warning, use --no-warn-script-location.\n",
      "  WARNING: The script datasets-cli.exe is installed in 'c:\\Users\\Admin\\AppData\\Local\\Programs\\Python\\Python312\\Scripts' which is not on PATH.\n",
      "  Consider adding this directory to PATH or, if you prefer to suppress this warning, use --no-warn-script-location.\n"
     ]
    },
    {
     "name": "stdout",
     "output_type": "stream",
     "text": [
      "\n",
      "  Downloading ragas-0.1.8-py3-none-any.whl.metadata (5.2 kB)\n",
      "Requirement already satisfied: numpy in c:\\users\\admin\\appdata\\roaming\\python\\python312\\site-packages (from ragas) (1.26.4)\n",
      "Collecting datasets (from ragas)\n",
      "  Using cached datasets-2.19.1-py3-none-any.whl.metadata (19 kB)\n",
      "Requirement already satisfied: tiktoken in c:\\users\\admin\\appdata\\roaming\\python\\python312\\site-packages (from ragas) (0.6.0)\n",
      "Requirement already satisfied: langchain in c:\\users\\admin\\appdata\\roaming\\python\\python312\\site-packages (from ragas) (0.1.12)\n",
      "Requirement already satisfied: langchain-core in c:\\users\\admin\\appdata\\local\\programs\\python\\python312\\lib\\site-packages (from ragas) (0.1.52)\n",
      "Requirement already satisfied: langchain-community in c:\\users\\admin\\appdata\\local\\programs\\python\\python312\\lib\\site-packages (from ragas) (0.0.38)\n",
      "Requirement already satisfied: langchain-openai in c:\\users\\admin\\appdata\\roaming\\python\\python312\\site-packages (from ragas) (0.1.3)\n",
      "Requirement already satisfied: openai>1 in c:\\users\\admin\\appdata\\roaming\\python\\python312\\site-packages (from ragas) (1.14.1)\n",
      "Collecting pysbd>=0.3.4 (from ragas)\n",
      "  Using cached pysbd-0.3.4-py3-none-any.whl.metadata (6.1 kB)\n",
      "Requirement already satisfied: nest-asyncio in c:\\users\\admin\\appdata\\roaming\\python\\python312\\site-packages (from ragas) (1.6.0)\n",
      "Collecting appdirs (from ragas)\n",
      "  Using cached appdirs-1.4.4-py2.py3-none-any.whl.metadata (9.0 kB)\n",
      "Requirement already satisfied: anyio<5,>=3.5.0 in c:\\users\\admin\\appdata\\roaming\\python\\python312\\site-packages (from openai>1->ragas) (4.3.0)\n",
      "Requirement already satisfied: distro<2,>=1.7.0 in c:\\users\\admin\\appdata\\roaming\\python\\python312\\site-packages (from openai>1->ragas) (1.9.0)\n",
      "Requirement already satisfied: httpx<1,>=0.23.0 in c:\\users\\admin\\appdata\\roaming\\python\\python312\\site-packages (from openai>1->ragas) (0.27.0)\n",
      "Requirement already satisfied: pydantic<3,>=1.9.0 in c:\\users\\admin\\appdata\\roaming\\python\\python312\\site-packages (from openai>1->ragas) (2.6.4)\n",
      "Requirement already satisfied: sniffio in c:\\users\\admin\\appdata\\roaming\\python\\python312\\site-packages (from openai>1->ragas) (1.3.1)\n",
      "Requirement already satisfied: tqdm>4 in c:\\users\\admin\\appdata\\roaming\\python\\python312\\site-packages (from openai>1->ragas) (4.66.2)\n",
      "Requirement already satisfied: typing-extensions<5,>=4.7 in c:\\users\\admin\\appdata\\roaming\\python\\python312\\site-packages (from openai>1->ragas) (4.9.0)\n",
      "Requirement already satisfied: filelock in c:\\users\\admin\\appdata\\roaming\\python\\python312\\site-packages (from datasets->ragas) (3.13.1)\n",
      "Requirement already satisfied: pyarrow>=12.0.0 in c:\\users\\admin\\appdata\\roaming\\python\\python312\\site-packages (from datasets->ragas) (15.0.0)\n",
      "Collecting pyarrow-hotfix (from datasets->ragas)\n",
      "  Using cached pyarrow_hotfix-0.6-py3-none-any.whl.metadata (3.6 kB)\n",
      "Collecting dill<0.3.9,>=0.3.0 (from datasets->ragas)\n",
      "  Using cached dill-0.3.8-py3-none-any.whl.metadata (10 kB)\n",
      "Requirement already satisfied: pandas in c:\\users\\admin\\appdata\\roaming\\python\\python312\\site-packages (from datasets->ragas) (2.1.3)\n",
      "Requirement already satisfied: requests>=2.19.0 in c:\\users\\admin\\appdata\\roaming\\python\\python312\\site-packages (from datasets->ragas) (2.31.0)\n",
      "Collecting xxhash (from datasets->ragas)\n",
      "  Using cached xxhash-3.4.1-cp312-cp312-win_amd64.whl.metadata (12 kB)\n",
      "Collecting multiprocess (from datasets->ragas)\n",
      "  Using cached multiprocess-0.70.16-py312-none-any.whl.metadata (7.2 kB)\n",
      "Requirement already satisfied: fsspec<=2024.3.1,>=2023.1.0 in c:\\users\\admin\\appdata\\roaming\\python\\python312\\site-packages (from fsspec[http]<=2024.3.1,>=2023.1.0->datasets->ragas) (2024.2.0)\n",
      "Requirement already satisfied: aiohttp in c:\\users\\admin\\appdata\\roaming\\python\\python312\\site-packages (from datasets->ragas) (3.9.3)\n",
      "Collecting huggingface-hub>=0.21.2 (from datasets->ragas)\n",
      "  Downloading huggingface_hub-0.23.1-py3-none-any.whl.metadata (12 kB)\n",
      "Requirement already satisfied: packaging in c:\\users\\admin\\appdata\\roaming\\python\\python312\\site-packages (from datasets->ragas) (23.2)\n",
      "Requirement already satisfied: pyyaml>=5.1 in c:\\users\\admin\\appdata\\roaming\\python\\python312\\site-packages (from datasets->ragas) (6.0.1)\n",
      "Requirement already satisfied: SQLAlchemy<3,>=1.4 in c:\\users\\admin\\appdata\\roaming\\python\\python312\\site-packages (from langchain->ragas) (2.0.28)\n",
      "Requirement already satisfied: dataclasses-json<0.7,>=0.5.7 in c:\\users\\admin\\appdata\\roaming\\python\\python312\\site-packages (from langchain->ragas) (0.6.4)\n",
      "Requirement already satisfied: jsonpatch<2.0,>=1.33 in c:\\users\\admin\\appdata\\roaming\\python\\python312\\site-packages (from langchain->ragas) (1.33)\n",
      "Requirement already satisfied: langchain-text-splitters<0.1,>=0.0.1 in c:\\users\\admin\\appdata\\roaming\\python\\python312\\site-packages (from langchain->ragas) (0.0.1)\n",
      "Requirement already satisfied: langsmith<0.2.0,>=0.1.17 in c:\\users\\admin\\appdata\\roaming\\python\\python312\\site-packages (from langchain->ragas) (0.1.27)\n",
      "Requirement already satisfied: tenacity<9.0.0,>=8.1.0 in c:\\users\\admin\\appdata\\roaming\\python\\python312\\site-packages (from langchain->ragas) (8.2.3)\n",
      "Requirement already satisfied: regex>=2022.1.18 in c:\\users\\admin\\appdata\\roaming\\python\\python312\\site-packages (from tiktoken->ragas) (2023.12.25)\n",
      "Requirement already satisfied: aiosignal>=1.1.2 in c:\\users\\admin\\appdata\\roaming\\python\\python312\\site-packages (from aiohttp->datasets->ragas) (1.3.1)\n",
      "Requirement already satisfied: attrs>=17.3.0 in c:\\users\\admin\\appdata\\roaming\\python\\python312\\site-packages (from aiohttp->datasets->ragas) (23.2.0)\n",
      "Requirement already satisfied: frozenlist>=1.1.1 in c:\\users\\admin\\appdata\\roaming\\python\\python312\\site-packages (from aiohttp->datasets->ragas) (1.4.1)\n",
      "Requirement already satisfied: multidict<7.0,>=4.5 in c:\\users\\admin\\appdata\\roaming\\python\\python312\\site-packages (from aiohttp->datasets->ragas) (6.0.5)\n",
      "Requirement already satisfied: yarl<2.0,>=1.0 in c:\\users\\admin\\appdata\\roaming\\python\\python312\\site-packages (from aiohttp->datasets->ragas) (1.9.4)\n",
      "Requirement already satisfied: idna>=2.8 in c:\\users\\admin\\appdata\\roaming\\python\\python312\\site-packages (from anyio<5,>=3.5.0->openai>1->ragas) (3.6)\n",
      "Requirement already satisfied: marshmallow<4.0.0,>=3.18.0 in c:\\users\\admin\\appdata\\roaming\\python\\python312\\site-packages (from dataclasses-json<0.7,>=0.5.7->langchain->ragas) (3.21.1)\n",
      "Requirement already satisfied: typing-inspect<1,>=0.4.0 in c:\\users\\admin\\appdata\\roaming\\python\\python312\\site-packages (from dataclasses-json<0.7,>=0.5.7->langchain->ragas) (0.9.0)\n",
      "Requirement already satisfied: certifi in c:\\users\\admin\\appdata\\local\\programs\\python\\python312\\lib\\site-packages (from httpx<1,>=0.23.0->openai>1->ragas) (2024.2.2)\n",
      "Requirement already satisfied: httpcore==1.* in c:\\users\\admin\\appdata\\roaming\\python\\python312\\site-packages (from httpx<1,>=0.23.0->openai>1->ragas) (1.0.4)\n",
      "Requirement already satisfied: h11<0.15,>=0.13 in c:\\users\\admin\\appdata\\roaming\\python\\python312\\site-packages (from httpcore==1.*->httpx<1,>=0.23.0->openai>1->ragas) (0.14.0)\n",
      "Requirement already satisfied: jsonpointer>=1.9 in c:\\users\\admin\\appdata\\roaming\\python\\python312\\site-packages (from jsonpatch<2.0,>=1.33->langchain->ragas) (2.4)\n",
      "Requirement already satisfied: orjson<4.0.0,>=3.9.14 in c:\\users\\admin\\appdata\\local\\programs\\python\\python312\\lib\\site-packages (from langsmith<0.2.0,>=0.1.17->langchain->ragas) (3.10.3)\n",
      "Requirement already satisfied: annotated-types>=0.4.0 in c:\\users\\admin\\appdata\\roaming\\python\\python312\\site-packages (from pydantic<3,>=1.9.0->openai>1->ragas) (0.6.0)\n",
      "Requirement already satisfied: pydantic-core==2.16.3 in c:\\users\\admin\\appdata\\roaming\\python\\python312\\site-packages (from pydantic<3,>=1.9.0->openai>1->ragas) (2.16.3)\n",
      "Requirement already satisfied: charset-normalizer<4,>=2 in c:\\users\\admin\\appdata\\roaming\\python\\python312\\site-packages (from requests>=2.19.0->datasets->ragas) (3.3.2)\n",
      "Requirement already satisfied: urllib3<3,>=1.21.1 in c:\\users\\admin\\appdata\\roaming\\python\\python312\\site-packages (from requests>=2.19.0->datasets->ragas) (2.1.0)\n",
      "Requirement already satisfied: greenlet!=0.4.17 in c:\\users\\admin\\appdata\\roaming\\python\\python312\\site-packages (from SQLAlchemy<3,>=1.4->langchain->ragas) (3.0.3)\n",
      "Requirement already satisfied: colorama in c:\\users\\admin\\appdata\\roaming\\python\\python312\\site-packages (from tqdm>4->openai>1->ragas) (0.4.6)\n",
      "Requirement already satisfied: python-dateutil>=2.8.2 in c:\\users\\admin\\appdata\\roaming\\python\\python312\\site-packages (from pandas->datasets->ragas) (2.8.2)\n",
      "Requirement already satisfied: pytz>=2020.1 in c:\\users\\admin\\appdata\\roaming\\python\\python312\\site-packages (from pandas->datasets->ragas) (2023.3.post1)\n",
      "Requirement already satisfied: tzdata>=2022.1 in c:\\users\\admin\\appdata\\roaming\\python\\python312\\site-packages (from pandas->datasets->ragas) (2023.3)\n",
      "Requirement already satisfied: six>=1.5 in c:\\users\\admin\\appdata\\roaming\\python\\python312\\site-packages (from python-dateutil>=2.8.2->pandas->datasets->ragas) (1.16.0)\n",
      "Requirement already satisfied: mypy-extensions>=0.3.0 in c:\\users\\admin\\appdata\\roaming\\python\\python312\\site-packages (from typing-inspect<1,>=0.4.0->dataclasses-json<0.7,>=0.5.7->langchain->ragas) (1.0.0)\n",
      "Downloading ragas-0.1.8-py3-none-any.whl (84 kB)\n",
      "   ---------------------------------------- 0.0/84.1 kB ? eta -:--:--\n",
      "   -------------- ------------------------- 30.7/84.1 kB 660.6 kB/s eta 0:00:01\n",
      "   ---------------------------------------- 84.1/84.1 kB 947.3 kB/s eta 0:00:00\n",
      "Using cached pysbd-0.3.4-py3-none-any.whl (71 kB)\n",
      "Using cached appdirs-1.4.4-py2.py3-none-any.whl (9.6 kB)\n",
      "Using cached datasets-2.19.1-py3-none-any.whl (542 kB)\n",
      "Using cached dill-0.3.8-py3-none-any.whl (116 kB)\n",
      "Downloading huggingface_hub-0.23.1-py3-none-any.whl (401 kB)\n",
      "   ---------------------------------------- 0.0/401.3 kB ? eta -:--:--\n",
      "   ---------------------------------- ---- 358.4/401.3 kB 11.2 MB/s eta 0:00:01\n",
      "   ---------------------------------------- 401.3/401.3 kB 6.3 MB/s eta 0:00:00\n",
      "Using cached multiprocess-0.70.16-py312-none-any.whl (146 kB)\n",
      "Using cached pyarrow_hotfix-0.6-py3-none-any.whl (7.9 kB)\n",
      "Using cached xxhash-3.4.1-cp312-cp312-win_amd64.whl (29 kB)\n",
      "Installing collected packages: appdirs, xxhash, pysbd, pyarrow-hotfix, dill, multiprocess, huggingface-hub, datasets, ragas\n",
      "  Attempting uninstall: huggingface-hub\n",
      "    Found existing installation: huggingface-hub 0.21.1\n",
      "    Uninstalling huggingface-hub-0.21.1:\n",
      "      Successfully uninstalled huggingface-hub-0.21.1\n",
      "Successfully installed appdirs-1.4.4 datasets-2.19.1 dill-0.3.8 huggingface-hub-0.23.1 multiprocess-0.70.16 pyarrow-hotfix-0.6 pysbd-0.3.4 ragas-0.1.8 xxhash-3.4.1\n"
     ]
    }
   ],
   "source": [
    "%pip install ragas"
   ]
  },
  {
   "cell_type": "code",
   "execution_count": 141,
   "metadata": {},
   "outputs": [],
   "source": [
    "azure_configs = {\n",
    "    \"base_url\": \"https://chatbotopenaikeyswe.openai.azure.com/\",\n",
    "    \"model_deployment\": \"gpt-35-turbo-1106\",\n",
    "    \"model_name\": \"gpt-35-turbo\",\n",
    "    \"embedding_deployment\": \"text-embedding-ada-002\",\n",
    "    \"embedding_name\": \"text-embedding-ada-002\",\n",
    "}"
   ]
  },
  {
   "cell_type": "code",
   "execution_count": 142,
   "metadata": {},
   "outputs": [],
   "source": [
    "azure_model = AzureChatOpenAI(\n",
    "    openai_api_key=\"api key\",\n",
    "    openai_api_version=\"2023-12-01-preview\",\n",
    "    azure_endpoint=azure_configs[\"base_url\"],\n",
    "    azure_deployment=azure_configs[\"model_deployment\"],\n",
    "    model=azure_configs[\"model_name\"],\n",
    "    validate_base_url=False,\n",
    ")\n"
   ]
  },
  {
   "cell_type": "code",
   "execution_count": 143,
   "metadata": {},
   "outputs": [],
   "source": [
    "azure_embeddings = AzureOpenAIEmbeddings(\n",
    "    openai_api_key=\"api key\",\n",
    "    openai_api_version=\"2023-05-15\",\n",
    "    azure_endpoint=azure_configs[\"base_url\"],\n",
    "    azure_deployment=azure_configs[\"embedding_deployment\"],\n",
    "    model=azure_configs[\"embedding_name\"],\n",
    ")"
   ]
  },
  {
   "cell_type": "code",
   "execution_count": 144,
   "metadata": {},
   "outputs": [],
   "source": [
    "test_questions = test_df[\"question\"].values.tolist()\n",
    "test_groundtruths = test_df[\"ground_truth\"].values.tolist()"
   ]
  },
  {
   "cell_type": "code",
   "execution_count": 145,
   "metadata": {},
   "outputs": [
    {
     "data": {
      "text/plain": [
       "['What is the Gas contract number of the customer named Sebastian?',\n",
       " 'What is the meter number for meterId 1244 and what is its meter type?',\n",
       " 'What is the Gas contract number, IBAN, street,  start of the contract, city,of the customer named Sebastian?',\n",
       " 'What is the purpose of the charging instruction in the EMobilitySkill and its connection to the charging payment aspect?',\n",
       " 'What services does Thuga Energie provide as a regional partner in the Hegau-Bodensee, Rhein-Pfalz, and Allgau-Oberschwaben regions?',\n",
       " 'What are the details of the meter with meterId 1244 in the Power section?',\n",
       " 'What options are there for making changes in our Kundenportal, and how can open questions be resolved with Kundenservice?',\n",
       " 'How do I delete historical meter readings and what metering systems automate reading collection and consumption data?',\n",
       " 'What are the service hours for the Kundenzentrum in Sudpfalz and which regions does Thuga Energie serve?',\n",
       " 'Where can I find the meter number for my electricity or gas meter?']"
      ]
     },
     "execution_count": 145,
     "metadata": {},
     "output_type": "execute_result"
    }
   ],
   "source": [
    "test_questions"
   ]
  },
  {
   "cell_type": "code",
   "execution_count": 146,
   "metadata": {},
   "outputs": [],
   "source": [
    "answers = []\n",
    "contexts = []\n",
    "\n",
    "for question in test_questions:\n",
    "  response = rag_chain.invoke({\"question\" : question})\n",
    "  answers.append(response[\"response\"].content)\n",
    "  contexts.append([context.page_content for context in response[\"context\"]])"
   ]
  },
  {
   "cell_type": "code",
   "execution_count": 147,
   "metadata": {},
   "outputs": [],
   "source": [
    "from datasets import Dataset\n",
    "\n",
    "response_dataset = Dataset.from_dict({\n",
    "    \"question\" : test_questions,\n",
    "    \"answer\" : answers,\n",
    "    \"contexts\" : contexts,\n",
    "    \"ground_truth\" : test_groundtruths\n",
    "})"
   ]
  },
  {
   "cell_type": "code",
   "execution_count": 148,
   "metadata": {},
   "outputs": [
    {
     "data": {
      "text/plain": [
       "{'question': 'What is the Gas contract number of the customer named Sebastian?',\n",
       " 'answer': 'The gas contract number for the customer named Sebastian is ES00000062980.',\n",
       " 'contexts': ['ï»¿contractNumber: ES00000062980\\nsection: Gas\\ninvoicingInterval: 12\\ncancellationDateTo: \\nperiodStart: 2022-03-14T23:00:00.000Z\\nperiodEnd: \\nstate: GPKE_APPROVED\\nnextPossibleCancellationDate: 2024-03-14T22:59:59.000Z\\nfirstName: Sebastian\\nlastName: LÃ¶ecke\\nbankName: Commerzbank KÃ¶ln\\niban: DE89370400440532013000\\nbic: COBADEFFXXX\\ncustomerNumber: 1005520645\\nstreet: Schmiedeweg\\nhousenumber: 10b\\npostalCode: 21481\\ncity: Lauenburg',\n",
       "  'ï»¿contractNumber: ES00000062980\\nsection: Gas\\ninvoicingInterval: 12\\ncancellationDateTo: \\nperiodStart: 2022-03-14T23:00:00.000Z\\nperiodEnd: \\nstate: GPKE_APPROVED\\nnextPossibleCancellationDate: 2024-03-14T22:59:59.000Z\\nfirstName: Sebastian\\nlastName: LÃ¶ecke\\nbankName: Commerzbank KÃ¶ln\\niban: DE89370400440532013000\\nbic: COBADEFFXXX\\ncustomerNumber: 1005520645\\nstreet: Schmiedeweg\\nhousenumber: 10b\\npostalCode: 21481\\ncity: Lauenburg',\n",
       "  'ï»¿contractNumber: ES00000062980\\nsection: Gas\\ninvoicingInterval: 12\\ncancellationDateTo: \\nperiodStart: 2022-03-14T23:00:00.000Z\\nperiodEnd: \\nstate: GPKE_APPROVED\\nnextPossibleCancellationDate: 2024-03-14T22:59:59.000Z\\nfirstName: Sebastian\\nlastName: LÃ¶ecke\\nbankName: Commerzbank KÃ¶ln\\niban: DE89370400440532013000\\nbic: COBADEFFXXX\\ncustomerNumber: 1005520645\\nstreet: Schmiedeweg\\nhousenumber: 10b\\npostalCode: 21481\\ncity: Lauenburg'],\n",
       " 'ground_truth': 'The gas contract number for the customer named Sebastian is ES00000062980'}"
      ]
     },
     "execution_count": 148,
     "metadata": {},
     "output_type": "execute_result"
    }
   ],
   "source": [
    "response_dataset[0]"
   ]
  },
  {
   "cell_type": "code",
   "execution_count": 149,
   "metadata": {},
   "outputs": [],
   "source": [
    "from ragas import evaluate\n",
    "from ragas.metrics import (\n",
    "    faithfulness,\n",
    "    answer_relevancy,\n",
    "    answer_correctness,\n",
    "    context_recall,\n",
    "    context_precision,\n",
    ")\n",
    "\n",
    "metrics = [\n",
    "    faithfulness,\n",
    "    answer_relevancy,\n",
    "    answer_correctness,\n",
    "    context_recall,\n",
    "    context_precision,\n",
    "]"
   ]
  },
  {
   "cell_type": "code",
   "execution_count": 150,
   "metadata": {},
   "outputs": [
    {
     "name": "stderr",
     "output_type": "stream",
     "text": [
      "Evaluating:   0%|          | 0/50 [00:00<?, ?it/s]"
     ]
    },
    {
     "name": "stderr",
     "output_type": "stream",
     "text": [
      "Evaluating: 100%|██████████| 50/50 [04:08<00:00,  4.97s/it]\n"
     ]
    }
   ],
   "source": [
    "results = evaluate(response_dataset, metrics, llm=azure_model, embeddings=azure_embeddings)"
   ]
  },
  {
   "cell_type": "code",
   "execution_count": 151,
   "metadata": {},
   "outputs": [
    {
     "data": {
      "text/plain": [
       "{'faithfulness': 0.9024, 'answer_relevancy': 0.9600, 'answer_correctness': 0.6893, 'context_recall': 0.9750, 'context_precision': 0.9833}"
      ]
     },
     "execution_count": 151,
     "metadata": {},
     "output_type": "execute_result"
    }
   ],
   "source": [
    "results"
   ]
  },
  {
   "cell_type": "code",
   "execution_count": 162,
   "metadata": {},
   "outputs": [
    {
     "name": "stdout",
     "output_type": "stream",
     "text": [
      "               Metric     Value\n",
      "0        faithfulness  0.902381\n",
      "1    answer_relevancy  0.960016\n",
      "2  answer_correctness  0.689309\n",
      "3      context_recall  0.975000\n",
      "4   context_precision  0.983333\n"
     ]
    }
   ],
   "source": [
    "import pandas as pd\n",
    "\n",
    "df = pd.DataFrame(list(results.items()), columns=['Metric', 'Value'])\n",
    "print(df)\n"
   ]
  },
  {
   "cell_type": "code",
   "execution_count": 159,
   "metadata": {},
   "outputs": [],
   "source": [
    "df = results.to_pandas()"
   ]
  },
  {
   "cell_type": "code",
   "execution_count": 160,
   "metadata": {},
   "outputs": [
    {
     "data": {
      "text/html": [
       "<div>\n",
       "<style scoped>\n",
       "    .dataframe tbody tr th:only-of-type {\n",
       "        vertical-align: middle;\n",
       "    }\n",
       "\n",
       "    .dataframe tbody tr th {\n",
       "        vertical-align: top;\n",
       "    }\n",
       "\n",
       "    .dataframe thead th {\n",
       "        text-align: right;\n",
       "    }\n",
       "</style>\n",
       "<table border=\"1\" class=\"dataframe\">\n",
       "  <thead>\n",
       "    <tr style=\"text-align: right;\">\n",
       "      <th></th>\n",
       "      <th>question</th>\n",
       "      <th>answer</th>\n",
       "      <th>contexts</th>\n",
       "      <th>ground_truth</th>\n",
       "      <th>faithfulness</th>\n",
       "      <th>answer_relevancy</th>\n",
       "      <th>answer_correctness</th>\n",
       "      <th>context_recall</th>\n",
       "      <th>context_precision</th>\n",
       "    </tr>\n",
       "  </thead>\n",
       "  <tbody>\n",
       "    <tr>\n",
       "      <th>0</th>\n",
       "      <td>What is the Gas contract number of the custome...</td>\n",
       "      <td>The gas contract number for the customer named...</td>\n",
       "      <td>[ï»¿contractNumber: ES00000062980\\nsection: Ga...</td>\n",
       "      <td>The gas contract number for the customer named...</td>\n",
       "      <td>1.000000</td>\n",
       "      <td>0.997162</td>\n",
       "      <td>0.748754</td>\n",
       "      <td>1.00</td>\n",
       "      <td>1.000000</td>\n",
       "    </tr>\n",
       "    <tr>\n",
       "      <th>1</th>\n",
       "      <td>What is the meter number for meterId 1244 and ...</td>\n",
       "      <td>The meter number for meterId 1244 is ZEI2332DE...</td>\n",
       "      <td>[ï»¿meterId: 1244\\nmeterNumber: ZEI2332DE2\\nse...</td>\n",
       "      <td>The meter number for meterId 1244 is ZEI2332DE...</td>\n",
       "      <td>1.000000</td>\n",
       "      <td>1.000000</td>\n",
       "      <td>1.000000</td>\n",
       "      <td>1.00</td>\n",
       "      <td>1.000000</td>\n",
       "    </tr>\n",
       "    <tr>\n",
       "      <th>2</th>\n",
       "      <td>What is the Gas contract number, IBAN, street,...</td>\n",
       "      <td>The Gas contract number for the customer named...</td>\n",
       "      <td>[ï»¿contractNumber: ES00000062980\\nsection: Ga...</td>\n",
       "      <td>The Gas contract number is ES00000062980, the ...</td>\n",
       "      <td>1.000000</td>\n",
       "      <td>0.939538</td>\n",
       "      <td>0.841884</td>\n",
       "      <td>1.00</td>\n",
       "      <td>1.000000</td>\n",
       "    </tr>\n",
       "    <tr>\n",
       "      <th>3</th>\n",
       "      <td>What is the purpose of the charging instructio...</td>\n",
       "      <td>The purpose of the charging instruction in the...</td>\n",
       "      <td>[id: chargingPayment\\nSkillName: EMobilitySkil...</td>\n",
       "      <td>The purpose of the charging instruction in the...</td>\n",
       "      <td>0.500000</td>\n",
       "      <td>0.968782</td>\n",
       "      <td>0.655368</td>\n",
       "      <td>1.00</td>\n",
       "      <td>1.000000</td>\n",
       "    </tr>\n",
       "    <tr>\n",
       "      <th>4</th>\n",
       "      <td>What services does Thuga Energie provide as a ...</td>\n",
       "      <td>Thuga Energie provides innovative products suc...</td>\n",
       "      <td>[Viele Anliegen können Sie über unsere Onlines...</td>\n",
       "      <td>Thuga Energie provides innovative products suc...</td>\n",
       "      <td>1.000000</td>\n",
       "      <td>0.928944</td>\n",
       "      <td>0.672555</td>\n",
       "      <td>1.00</td>\n",
       "      <td>1.000000</td>\n",
       "    </tr>\n",
       "    <tr>\n",
       "      <th>5</th>\n",
       "      <td>What are the details of the meter with meterId...</td>\n",
       "      <td>The meter with meterId 1244 in the Power secti...</td>\n",
       "      <td>[ï»¿meterId: 1244\\nmeterNumber: ZEI2332DE2\\nse...</td>\n",
       "      <td>The details of the meter with meterId 1244 in ...</td>\n",
       "      <td>1.000000</td>\n",
       "      <td>1.000000</td>\n",
       "      <td>0.538733</td>\n",
       "      <td>1.00</td>\n",
       "      <td>0.833333</td>\n",
       "    </tr>\n",
       "    <tr>\n",
       "      <th>6</th>\n",
       "      <td>What options are there for making changes in o...</td>\n",
       "      <td>In the Kundenportal, you can make changes onli...</td>\n",
       "      <td>[answerId: 102212\\ntext: Unser Kundenportal st...</td>\n",
       "      <td>The Kundenportal offers the option to make cha...</td>\n",
       "      <td>1.000000</td>\n",
       "      <td>0.925665</td>\n",
       "      <td>0.473100</td>\n",
       "      <td>0.75</td>\n",
       "      <td>1.000000</td>\n",
       "    </tr>\n",
       "    <tr>\n",
       "      <th>7</th>\n",
       "      <td>How do I delete historical meter readings and ...</td>\n",
       "      <td>To delete historical meter readings, you would...</td>\n",
       "      <td>[conversationId: Dtf97DFIiX05X7OmOJLDx1-eu\\nty...</td>\n",
       "      <td>To delete historical meter readings, it is bes...</td>\n",
       "      <td>0.666667</td>\n",
       "      <td>0.915170</td>\n",
       "      <td>0.416161</td>\n",
       "      <td>1.00</td>\n",
       "      <td>1.000000</td>\n",
       "    </tr>\n",
       "    <tr>\n",
       "      <th>8</th>\n",
       "      <td>What are the service hours for the Kundenzentr...</td>\n",
       "      <td>The service hours for the Kundenzentrum in Sud...</td>\n",
       "      <td>[Viele Anliegen können Sie über unsere Onlines...</td>\n",
       "      <td>The service hours for the Kundenzentrum in Sud...</td>\n",
       "      <td>0.857143</td>\n",
       "      <td>0.932504</td>\n",
       "      <td>0.546539</td>\n",
       "      <td>1.00</td>\n",
       "      <td>1.000000</td>\n",
       "    </tr>\n",
       "    <tr>\n",
       "      <th>9</th>\n",
       "      <td>Where can I find the meter number for my elect...</td>\n",
       "      <td>You can find the meter number for your electri...</td>\n",
       "      <td>[answerId: 102127\\ntext: Die **Zählernummer** ...</td>\n",
       "      <td>You can find the meter number for your electri...</td>\n",
       "      <td>1.000000</td>\n",
       "      <td>0.992396</td>\n",
       "      <td>1.000000</td>\n",
       "      <td>1.00</td>\n",
       "      <td>1.000000</td>\n",
       "    </tr>\n",
       "  </tbody>\n",
       "</table>\n",
       "</div>"
      ],
      "text/plain": [
       "                                            question  \\\n",
       "0  What is the Gas contract number of the custome...   \n",
       "1  What is the meter number for meterId 1244 and ...   \n",
       "2  What is the Gas contract number, IBAN, street,...   \n",
       "3  What is the purpose of the charging instructio...   \n",
       "4  What services does Thuga Energie provide as a ...   \n",
       "5  What are the details of the meter with meterId...   \n",
       "6  What options are there for making changes in o...   \n",
       "7  How do I delete historical meter readings and ...   \n",
       "8  What are the service hours for the Kundenzentr...   \n",
       "9  Where can I find the meter number for my elect...   \n",
       "\n",
       "                                              answer  \\\n",
       "0  The gas contract number for the customer named...   \n",
       "1  The meter number for meterId 1244 is ZEI2332DE...   \n",
       "2  The Gas contract number for the customer named...   \n",
       "3  The purpose of the charging instruction in the...   \n",
       "4  Thuga Energie provides innovative products suc...   \n",
       "5  The meter with meterId 1244 in the Power secti...   \n",
       "6  In the Kundenportal, you can make changes onli...   \n",
       "7  To delete historical meter readings, you would...   \n",
       "8  The service hours for the Kundenzentrum in Sud...   \n",
       "9  You can find the meter number for your electri...   \n",
       "\n",
       "                                            contexts  \\\n",
       "0  [ï»¿contractNumber: ES00000062980\\nsection: Ga...   \n",
       "1  [ï»¿meterId: 1244\\nmeterNumber: ZEI2332DE2\\nse...   \n",
       "2  [ï»¿contractNumber: ES00000062980\\nsection: Ga...   \n",
       "3  [id: chargingPayment\\nSkillName: EMobilitySkil...   \n",
       "4  [Viele Anliegen können Sie über unsere Onlines...   \n",
       "5  [ï»¿meterId: 1244\\nmeterNumber: ZEI2332DE2\\nse...   \n",
       "6  [answerId: 102212\\ntext: Unser Kundenportal st...   \n",
       "7  [conversationId: Dtf97DFIiX05X7OmOJLDx1-eu\\nty...   \n",
       "8  [Viele Anliegen können Sie über unsere Onlines...   \n",
       "9  [answerId: 102127\\ntext: Die **Zählernummer** ...   \n",
       "\n",
       "                                        ground_truth  faithfulness  \\\n",
       "0  The gas contract number for the customer named...      1.000000   \n",
       "1  The meter number for meterId 1244 is ZEI2332DE...      1.000000   \n",
       "2  The Gas contract number is ES00000062980, the ...      1.000000   \n",
       "3  The purpose of the charging instruction in the...      0.500000   \n",
       "4  Thuga Energie provides innovative products suc...      1.000000   \n",
       "5  The details of the meter with meterId 1244 in ...      1.000000   \n",
       "6  The Kundenportal offers the option to make cha...      1.000000   \n",
       "7  To delete historical meter readings, it is bes...      0.666667   \n",
       "8  The service hours for the Kundenzentrum in Sud...      0.857143   \n",
       "9  You can find the meter number for your electri...      1.000000   \n",
       "\n",
       "   answer_relevancy  answer_correctness  context_recall  context_precision  \n",
       "0          0.997162            0.748754            1.00           1.000000  \n",
       "1          1.000000            1.000000            1.00           1.000000  \n",
       "2          0.939538            0.841884            1.00           1.000000  \n",
       "3          0.968782            0.655368            1.00           1.000000  \n",
       "4          0.928944            0.672555            1.00           1.000000  \n",
       "5          1.000000            0.538733            1.00           0.833333  \n",
       "6          0.925665            0.473100            0.75           1.000000  \n",
       "7          0.915170            0.416161            1.00           1.000000  \n",
       "8          0.932504            0.546539            1.00           1.000000  \n",
       "9          0.992396            1.000000            1.00           1.000000  "
      ]
     },
     "execution_count": 160,
     "metadata": {},
     "output_type": "execute_result"
    }
   ],
   "source": [
    "df"
   ]
  },
  {
   "cell_type": "code",
   "execution_count": 152,
   "metadata": {},
   "outputs": [
    {
     "data": {
      "text/html": [
       "<div>\n",
       "<style scoped>\n",
       "    .dataframe tbody tr th:only-of-type {\n",
       "        vertical-align: middle;\n",
       "    }\n",
       "\n",
       "    .dataframe tbody tr th {\n",
       "        vertical-align: top;\n",
       "    }\n",
       "\n",
       "    .dataframe thead th {\n",
       "        text-align: right;\n",
       "    }\n",
       "</style>\n",
       "<table border=\"1\" class=\"dataframe\">\n",
       "  <thead>\n",
       "    <tr style=\"text-align: right;\">\n",
       "      <th></th>\n",
       "      <th>question</th>\n",
       "      <th>answer</th>\n",
       "      <th>contexts</th>\n",
       "      <th>ground_truth</th>\n",
       "      <th>faithfulness</th>\n",
       "      <th>answer_relevancy</th>\n",
       "      <th>answer_correctness</th>\n",
       "      <th>context_recall</th>\n",
       "      <th>context_precision</th>\n",
       "    </tr>\n",
       "  </thead>\n",
       "  <tbody>\n",
       "    <tr>\n",
       "      <th>0</th>\n",
       "      <td>What is the Gas contract number of the custome...</td>\n",
       "      <td>The gas contract number for the customer named...</td>\n",
       "      <td>[ï»¿contractNumber: ES00000062980\\nsection: Ga...</td>\n",
       "      <td>The gas contract number for the customer named...</td>\n",
       "      <td>1.0</td>\n",
       "      <td>0.997162</td>\n",
       "      <td>0.748754</td>\n",
       "      <td>1.0</td>\n",
       "      <td>1.0</td>\n",
       "    </tr>\n",
       "    <tr>\n",
       "      <th>1</th>\n",
       "      <td>What is the meter number for meterId 1244 and ...</td>\n",
       "      <td>The meter number for meterId 1244 is ZEI2332DE...</td>\n",
       "      <td>[ï»¿meterId: 1244\\nmeterNumber: ZEI2332DE2\\nse...</td>\n",
       "      <td>The meter number for meterId 1244 is ZEI2332DE...</td>\n",
       "      <td>1.0</td>\n",
       "      <td>1.000000</td>\n",
       "      <td>1.000000</td>\n",
       "      <td>1.0</td>\n",
       "      <td>1.0</td>\n",
       "    </tr>\n",
       "    <tr>\n",
       "      <th>2</th>\n",
       "      <td>What is the Gas contract number, IBAN, street,...</td>\n",
       "      <td>The Gas contract number for the customer named...</td>\n",
       "      <td>[ï»¿contractNumber: ES00000062980\\nsection: Ga...</td>\n",
       "      <td>The Gas contract number is ES00000062980, the ...</td>\n",
       "      <td>1.0</td>\n",
       "      <td>0.939538</td>\n",
       "      <td>0.841884</td>\n",
       "      <td>1.0</td>\n",
       "      <td>1.0</td>\n",
       "    </tr>\n",
       "    <tr>\n",
       "      <th>3</th>\n",
       "      <td>What is the purpose of the charging instructio...</td>\n",
       "      <td>The purpose of the charging instruction in the...</td>\n",
       "      <td>[id: chargingPayment\\nSkillName: EMobilitySkil...</td>\n",
       "      <td>The purpose of the charging instruction in the...</td>\n",
       "      <td>0.5</td>\n",
       "      <td>0.968782</td>\n",
       "      <td>0.655368</td>\n",
       "      <td>1.0</td>\n",
       "      <td>1.0</td>\n",
       "    </tr>\n",
       "    <tr>\n",
       "      <th>4</th>\n",
       "      <td>What services does Thuga Energie provide as a ...</td>\n",
       "      <td>Thuga Energie provides innovative products suc...</td>\n",
       "      <td>[Viele Anliegen können Sie über unsere Onlines...</td>\n",
       "      <td>Thuga Energie provides innovative products suc...</td>\n",
       "      <td>1.0</td>\n",
       "      <td>0.928944</td>\n",
       "      <td>0.672555</td>\n",
       "      <td>1.0</td>\n",
       "      <td>1.0</td>\n",
       "    </tr>\n",
       "  </tbody>\n",
       "</table>\n",
       "</div>"
      ],
      "text/plain": [
       "                                            question  \\\n",
       "0  What is the Gas contract number of the custome...   \n",
       "1  What is the meter number for meterId 1244 and ...   \n",
       "2  What is the Gas contract number, IBAN, street,...   \n",
       "3  What is the purpose of the charging instructio...   \n",
       "4  What services does Thuga Energie provide as a ...   \n",
       "\n",
       "                                              answer  \\\n",
       "0  The gas contract number for the customer named...   \n",
       "1  The meter number for meterId 1244 is ZEI2332DE...   \n",
       "2  The Gas contract number for the customer named...   \n",
       "3  The purpose of the charging instruction in the...   \n",
       "4  Thuga Energie provides innovative products suc...   \n",
       "\n",
       "                                            contexts  \\\n",
       "0  [ï»¿contractNumber: ES00000062980\\nsection: Ga...   \n",
       "1  [ï»¿meterId: 1244\\nmeterNumber: ZEI2332DE2\\nse...   \n",
       "2  [ï»¿contractNumber: ES00000062980\\nsection: Ga...   \n",
       "3  [id: chargingPayment\\nSkillName: EMobilitySkil...   \n",
       "4  [Viele Anliegen können Sie über unsere Onlines...   \n",
       "\n",
       "                                        ground_truth  faithfulness  \\\n",
       "0  The gas contract number for the customer named...           1.0   \n",
       "1  The meter number for meterId 1244 is ZEI2332DE...           1.0   \n",
       "2  The Gas contract number is ES00000062980, the ...           1.0   \n",
       "3  The purpose of the charging instruction in the...           0.5   \n",
       "4  Thuga Energie provides innovative products suc...           1.0   \n",
       "\n",
       "   answer_relevancy  answer_correctness  context_recall  context_precision  \n",
       "0          0.997162            0.748754             1.0                1.0  \n",
       "1          1.000000            1.000000             1.0                1.0  \n",
       "2          0.939538            0.841884             1.0                1.0  \n",
       "3          0.968782            0.655368             1.0                1.0  \n",
       "4          0.928944            0.672555             1.0                1.0  "
      ]
     },
     "execution_count": 152,
     "metadata": {},
     "output_type": "execute_result"
    }
   ],
   "source": [
    "df = results.to_pandas()\n",
    "df.head()"
   ]
  },
  {
   "cell_type": "code",
   "execution_count": 153,
   "metadata": {},
   "outputs": [],
   "source": [
    "file_path = 'C:/Users/Admin/Desktop/hsag chatbot/evaluationresults1.csv'\n",
    "df.to_csv(file_path, index=False)"
   ]
  }
 ],
 "metadata": {
  "kernelspec": {
   "display_name": ".venv",
   "language": "python",
   "name": "python3"
  },
  "language_info": {
   "codemirror_mode": {
    "name": "ipython",
    "version": 3
   },
   "file_extension": ".py",
   "mimetype": "text/x-python",
   "name": "python",
   "nbconvert_exporter": "python",
   "pygments_lexer": "ipython3",
   "version": "3.12.3"
  }
 },
 "nbformat": 4,
 "nbformat_minor": 2
}
