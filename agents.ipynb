{
 "cells": [
  {
   "cell_type": "code",
   "execution_count": 8,
   "metadata": {},
   "outputs": [],
   "source": [
    "import os\n",
    "from langchain_openai import OpenAI"
   ]
  },
  {
   "cell_type": "code",
   "execution_count": 9,
   "metadata": {},
   "outputs": [],
   "source": [
    "from langchain_openai import AzureChatOpenAI\n",
    "\n",
    "gpt = AzureChatOpenAI(\n",
    "    azure_deployment=\"gpt-35-turbo-1106\",\n",
    "    openai_api_key=\"openaiapikey\",\n",
    "    openai_api_type=\"azure\",\n",
    "    openai_api_version=\"2023-12-01-preview\",\n",
    "    azure_endpoint=\"https://chatbotopenaikeyswe.openai.azure.com/\",\n",
    "    verbose=True,\n",
    "    temperature=0.1,\n",
    ")"
   ]
  },
  {
   "cell_type": "code",
   "execution_count": 121,
   "metadata": {},
   "outputs": [
    {
     "data": {
      "text/plain": [
       "AIMessage(content='Hello! How can I assist you today?', response_metadata={'token_usage': {'completion_tokens': 9, 'prompt_tokens': 8, 'total_tokens': 17}, 'model_name': 'gpt-35-turbo', 'system_fingerprint': 'fp_2f57f81c11', 'prompt_filter_results': [{'prompt_index': 0, 'content_filter_results': {'hate': {'filtered': False, 'severity': 'safe'}, 'self_harm': {'filtered': False, 'severity': 'safe'}, 'sexual': {'filtered': False, 'severity': 'safe'}, 'violence': {'filtered': False, 'severity': 'safe'}}}], 'finish_reason': 'stop', 'logprobs': None, 'content_filter_results': {'hate': {'filtered': False, 'severity': 'safe'}, 'self_harm': {'filtered': False, 'severity': 'safe'}, 'sexual': {'filtered': False, 'severity': 'safe'}, 'violence': {'filtered': False, 'severity': 'safe'}}}, id='run-4cc7ab91-3db7-4fb4-906f-c93f7fa51f19-0')"
      ]
     },
     "execution_count": 121,
     "metadata": {},
     "output_type": "execute_result"
    }
   ],
   "source": [
    "gpt.invoke(\"hello\")"
   ]
  },
  {
   "cell_type": "code",
   "execution_count": 10,
   "metadata": {},
   "outputs": [],
   "source": [
    "from langchain_openai import AzureOpenAIEmbeddings\n",
    "embed = AzureOpenAIEmbeddings(\n",
    "    azure_deployment=\"text-embedding-ada-002\",\n",
    "    openai_api_key=\"api key\",\n",
    "    azure_endpoint=\"https://chatbotopenaikeyswe.openai.azure.com/\"\n",
    ")"
   ]
  },
  {
   "cell_type": "code",
   "execution_count": 11,
   "metadata": {},
   "outputs": [],
   "source": [
    "from langchain_community.document_loaders import DirectoryLoader\n",
    "from langchain_community.document_loaders import CSVLoader\n",
    "path = \"C:/Users/Admin/Desktop/hsag chatbot/CSVDATASET/Intent and Configuration Dataset\"\n",
    "csv_loader_kwargs={'autodetect_encoding': True}\n",
    "loader = DirectoryLoader(path, glob=\"**/*.csv\", loader_cls=CSVLoader, loader_kwargs=csv_loader_kwargs)\n",
    "intents_configuration_data  = loader.load()"
   ]
  },
  {
   "cell_type": "code",
   "execution_count": 5,
   "metadata": {},
   "outputs": [
    {
     "data": {
      "text/plain": [
       "1576"
      ]
     },
     "execution_count": 5,
     "metadata": {},
     "output_type": "execute_result"
    }
   ],
   "source": [
    "len(intents_configuration_data)\n"
   ]
  },
  {
   "cell_type": "code",
   "execution_count": 12,
   "metadata": {},
   "outputs": [],
   "source": [
    "from langchain_community.document_loaders.csv_loader import CSVLoader\n",
    "loader = CSVLoader(file_path=\"C:/Users/Admin/Desktop/hsag chatbot/CSVDATASET/Customerdata.csv\")\n",
    "\n",
    "customer_data = loader.load()"
   ]
  },
  {
   "cell_type": "code",
   "execution_count": 7,
   "metadata": {},
   "outputs": [
    {
     "data": {
      "text/plain": [
       "1"
      ]
     },
     "execution_count": 7,
     "metadata": {},
     "output_type": "execute_result"
    }
   ],
   "source": [
    "len(customer_data)"
   ]
  },
  {
   "cell_type": "code",
   "execution_count": 13,
   "metadata": {},
   "outputs": [],
   "source": [
    "from langchain_community.document_loaders.csv_loader import CSVLoader\n",
    "loader = CSVLoader(file_path=\"C:/Users/Admin/Desktop/hsag chatbot/CSVDATASET/Meterreadingdata.csv\")\n",
    "\n",
    "meterreading_data = loader.load()"
   ]
  },
  {
   "cell_type": "code",
   "execution_count": 9,
   "metadata": {},
   "outputs": [
    {
     "data": {
      "text/plain": [
       "4"
      ]
     },
     "execution_count": 9,
     "metadata": {},
     "output_type": "execute_result"
    }
   ],
   "source": [
    "len(meterreading_data)"
   ]
  },
  {
   "cell_type": "code",
   "execution_count": 14,
   "metadata": {},
   "outputs": [],
   "source": [
    "path = \"C:/Users/Admin/Desktop/hsag chatbot/CSVDATASET/Logdata\"\n",
    "csv_loader_kwargs={'autodetect_encoding': True}\n",
    "loader = DirectoryLoader(path, glob=\"**/*.csv\", loader_cls=CSVLoader, loader_kwargs=csv_loader_kwargs)\n",
    "LogData_thuegaenergie = loader.load()"
   ]
  },
  {
   "cell_type": "code",
   "execution_count": 11,
   "metadata": {},
   "outputs": [
    {
     "data": {
      "text/plain": [
       "7807"
      ]
     },
     "execution_count": 11,
     "metadata": {},
     "output_type": "execute_result"
    }
   ],
   "source": [
    "len(LogData_thuegaenergie)"
   ]
  },
  {
   "cell_type": "code",
   "execution_count": 15,
   "metadata": {},
   "outputs": [
    {
     "name": "stderr",
     "output_type": "stream",
     "text": [
      "Fetching pages: 100%|##########| 1/1 [00:00<00:00,  2.83it/s]\n"
     ]
    }
   ],
   "source": [
    "from langchain_community.document_loaders import AsyncHtmlLoader\n",
    "\n",
    "urls = [\"https://www.thuega-energie-gmbh.de/privatkunden.html\"]\n",
    "loader = AsyncHtmlLoader(urls)\n",
    "docs = loader.load()\n",
    "\n",
    "from langchain_community.document_transformers import Html2TextTransformer\n",
    "\n",
    "html2text = Html2TextTransformer()\n",
    "thuegaenergie_company_data = html2text.transform_documents(docs)"
   ]
  },
  {
   "cell_type": "code",
   "execution_count": 12,
   "metadata": {},
   "outputs": [
    {
     "data": {
      "text/plain": [
       "1"
      ]
     },
     "execution_count": 12,
     "metadata": {},
     "output_type": "execute_result"
    }
   ],
   "source": [
    "len(thuegaenergie_company_data)"
   ]
  },
  {
   "cell_type": "code",
   "execution_count": 16,
   "metadata": {},
   "outputs": [],
   "source": [
    "import bs4\n",
    "from langchain import hub\n",
    "from langchain_community.document_loaders import WebBaseLoader\n",
    "from langchain_community.vectorstores import Chroma\n",
    "from langchain_core.output_parsers import StrOutputParser\n",
    "from langchain_core.runnables import RunnablePassthrough\n",
    "from langchain_openai import ChatOpenAI, OpenAIEmbeddings\n",
    "from langchain_text_splitters import RecursiveCharacterTextSplitter"
   ]
  },
  {
   "cell_type": "code",
   "execution_count": 248,
   "metadata": {},
   "outputs": [],
   "source": [
    "intents_configuration_data_text_splitter = RecursiveCharacterTextSplitter(\n",
    "    chunk_size=1000,\n",
    "    chunk_overlap=200,\n",
    "    length_function=len,\n",
    "    is_separator_regex=False,\n",
    ")"
   ]
  },
  {
   "cell_type": "code",
   "execution_count": 249,
   "metadata": {},
   "outputs": [],
   "source": [
    "customer_data_text_splitter = RecursiveCharacterTextSplitter(\n",
    "    chunk_size=100,\n",
    "    chunk_overlap=50,\n",
    "    length_function=len,\n",
    "    is_separator_regex=False,\n",
    ")"
   ]
  },
  {
   "cell_type": "code",
   "execution_count": 250,
   "metadata": {},
   "outputs": [],
   "source": [
    "meterreading_data_text_splitter = RecursiveCharacterTextSplitter(\n",
    "    chunk_size=100,\n",
    "    chunk_overlap=50,\n",
    "    length_function=len,\n",
    "    is_separator_regex=False,\n",
    ")"
   ]
  },
  {
   "cell_type": "code",
   "execution_count": 251,
   "metadata": {},
   "outputs": [],
   "source": [
    "LogData_thuegaenergie_text_splitter = RecursiveCharacterTextSplitter(\n",
    "    chunk_size=2000,\n",
    "    chunk_overlap=200,\n",
    "    length_function=len,\n",
    "    is_separator_regex=False,\n",
    ")"
   ]
  },
  {
   "cell_type": "code",
   "execution_count": 252,
   "metadata": {},
   "outputs": [],
   "source": [
    "thuegaenergie_company_data_text_splitter = RecursiveCharacterTextSplitter(\n",
    "    chunk_size=1000,\n",
    "    chunk_overlap=200,\n",
    "    length_function=len,\n",
    "    is_separator_regex=False,\n",
    ")"
   ]
  },
  {
   "cell_type": "code",
   "execution_count": 253,
   "metadata": {},
   "outputs": [],
   "source": [
    "chuncked_intents_configuration_data = intents_configuration_data_text_splitter.split_documents(intents_configuration_data)"
   ]
  },
  {
   "cell_type": "code",
   "execution_count": 254,
   "metadata": {},
   "outputs": [
    {
     "data": {
      "text/plain": [
       "Document(page_content='answerId: 128135\\ntext: Bei der jÃ¤hrlichen Abrechnung wird eine **Nachzahlung** fÃ¤llig, wenn die monatlichen Abschlagszahlungen die tatsÃ¤chlichen Kosten fÃ¼r den Verbrauch nicht abdecken. In diesem Fall wird der Differenzbetrag als **Nachzahlung** fÃ¤llig. Details zur Zahlung oder Abbuchung sind auf der Rechnung zu finden.\\nidentificatorKey: \\nidentificatorId: 0\\nidentificatorReadableName: \\nidentificatorDescription: \\nanswer_configId: 90815\\ntype: multi\\ncustomer: thuegaenergie\\nvirtualIntentName: ErklÃ¤rung zur Nachzahlung\\nintent: additionalPaymentOverview\\nentityName: noneEntity\\nnormalizedEntityValue: noneNormalizedValue\\nanswer_channel: default\\nredirect_to_config: 0\\nreadable_redirect_to_config: \\ncancelButtonLabel: abbrechen\\nentityId: 0\\nentity_key: \\nadaptive_cards_length: \\ncards_length: 0\\nbutton_length: 0\\nbuttons:', metadata={'source': 'C:\\\\Users\\\\Admin\\\\Desktop\\\\hsag chatbot\\\\CSVDATASET\\\\Intent and Configuration Dataset\\\\Config_Overview.csv', 'row': 0})"
      ]
     },
     "execution_count": 254,
     "metadata": {},
     "output_type": "execute_result"
    }
   ],
   "source": [
    "chuncked_intents_configuration_data[0]"
   ]
  },
  {
   "cell_type": "code",
   "execution_count": 255,
   "metadata": {},
   "outputs": [],
   "source": [
    "chuncked_customer_data = customer_data_text_splitter.split_documents(customer_data)"
   ]
  },
  {
   "cell_type": "code",
   "execution_count": 256,
   "metadata": {},
   "outputs": [
    {
     "data": {
      "text/plain": [
       "Document(page_content='contractNumber: ES00000062980\\nsection: Gas\\ninvoicingInterval: 12\\ncancellationDateTo:', metadata={'source': 'C:/Users/Admin/Desktop/hsag chatbot/CSVDATASET/Customerdata.csv', 'row': 0})"
      ]
     },
     "execution_count": 256,
     "metadata": {},
     "output_type": "execute_result"
    }
   ],
   "source": [
    "chuncked_customer_data[0]"
   ]
  },
  {
   "cell_type": "code",
   "execution_count": 257,
   "metadata": {},
   "outputs": [],
   "source": [
    "chuncked_meterreading_data = meterreading_data_text_splitter.split_documents(meterreading_data)"
   ]
  },
  {
   "cell_type": "code",
   "execution_count": 258,
   "metadata": {},
   "outputs": [
    {
     "data": {
      "text/plain": [
       "Document(page_content='meterId: 1244\\nmeterNumber: ZEI2332DE2\\nsection: Power\\nvalidFrom: \\nvalidTo: 2023-05-04 23:59:59', metadata={'source': 'C:/Users/Admin/Desktop/hsag chatbot/CSVDATASET/Meterreadingdata.csv', 'row': 0})"
      ]
     },
     "execution_count": 258,
     "metadata": {},
     "output_type": "execute_result"
    }
   ],
   "source": [
    "chuncked_meterreading_data[0]"
   ]
  },
  {
   "cell_type": "code",
   "execution_count": 259,
   "metadata": {},
   "outputs": [],
   "source": [
    "chuncked_LogData_thuegaenergie = LogData_thuegaenergie_text_splitter.split_documents(LogData_thuegaenergie)"
   ]
  },
  {
   "cell_type": "code",
   "execution_count": 260,
   "metadata": {},
   "outputs": [
    {
     "data": {
      "text/plain": [
       "Document(page_content='conversationId: LJt6wyFrAQa3dW4sbb9j0g-eu\\ntype: conversationUpdate\\nrole: user\\ntimestamp: 2023-11-27T09:11:02.965Z\\ntext: \\nisMessageBackText: 0\\nplainText: 0\\ntopScoringIntent:', metadata={'source': 'C:\\\\Users\\\\Admin\\\\Desktop\\\\hsag chatbot\\\\CSVDATASET\\\\Logdata\\\\LogData_thuegaenergie.csv', 'row': 0})"
      ]
     },
     "execution_count": 260,
     "metadata": {},
     "output_type": "execute_result"
    }
   ],
   "source": [
    "chuncked_LogData_thuegaenergie[0]"
   ]
  },
  {
   "cell_type": "code",
   "execution_count": 261,
   "metadata": {},
   "outputs": [],
   "source": [
    "chuncked_thuegaenergie_company_data = thuegaenergie_company_data_text_splitter.split_documents(thuegaenergie_company_data)"
   ]
  },
  {
   "cell_type": "code",
   "execution_count": 262,
   "metadata": {},
   "outputs": [
    {
     "data": {
      "text/plain": [
       "Document(page_content='Direkt zur Hauptnavigation springen  Direkt zum Inhalt springen\\n\\n  * Privatkunden \\n    * Strom\\n    * Erdgas\\n    * Wärme\\n    * Photovoltaik\\n    * E-Mobilität\\n    * Internet\\n    * Energieberatung\\n    * Förderprogramme\\n  * Geschäftskunden \\n    * Strom\\n      * Gewerbekunden\\n      * Industrie- und Großkunden\\n      * Wohnungswirtschaft\\n      * Kommunen\\n      * Energie- und Wasserversorger\\n    * Erdgas\\n      * Gewerbekunden\\n      * Industrie- und Großkunden\\n      * Wohnungswirtschaft\\n      * Kommunen\\n      * Energie- und Wasserversorgung\\n    * Contracting\\n    * Photovoltaik\\n    * E-Mobilität\\n    * Telekommunikation\\n    * Dienstleistungen\\n  * Über uns \\n    * Portrait\\n    * Nachhaltigkeit\\n    * Sponsoring\\n    * Auszeichnungen\\n    * Presse\\n  * Karriere \\n    * Stellenangebote\\n    * Ausbildung\\n    * Duales Studium\\n    * FAQ zu Ausbildung & Studium\\n  * Service \\n    * Kundenportale\\n    * Umzug melden\\n    * FAQ\\n    * Downloads\\n    * Kontakt\\n\\n  1.   2.   3.   4.   5. \\n\\n## **5.000 Euro pro Region**', metadata={'source': 'https://www.thuega-energie-gmbh.de/privatkunden.html', 'title': 'Privatkunden | Thüga Energie GmbH', 'language': 'de-DE'})"
      ]
     },
     "execution_count": 262,
     "metadata": {},
     "output_type": "execute_result"
    }
   ],
   "source": [
    "chuncked_thuegaenergie_company_data[0]"
   ]
  },
  {
   "cell_type": "code",
   "execution_count": 263,
   "metadata": {},
   "outputs": [],
   "source": [
    "from langchain_community.vectorstores import Chroma"
   ]
  },
  {
   "cell_type": "code",
   "execution_count": 182,
   "metadata": {},
   "outputs": [],
   "source": [
    "intents_configuration_data_vectorstore = Chroma.from_documents(chuncked_intents_configuration_data, embed, persist_directory=\"C:/chuncked_intents_configuration_db\")\n",
    "intents_configuration_data_vectorstore.persist()"
   ]
  },
  {
   "cell_type": "code",
   "execution_count": 183,
   "metadata": {},
   "outputs": [],
   "source": [
    "customer_data_vectorstore = Chroma.from_documents(chuncked_customer_data, embed, persist_directory=\"C:/customer_db\")\n",
    "customer_data_vectorstore.persist()"
   ]
  },
  {
   "cell_type": "code",
   "execution_count": 184,
   "metadata": {},
   "outputs": [],
   "source": [
    "meterreading_data_vectorstore = Chroma.from_documents(chuncked_meterreading_data, embed, persist_directory=\"C:/meterreading_db\")\n",
    "meterreading_data_vectorstore.persist()"
   ]
  },
  {
   "cell_type": "code",
   "execution_count": 185,
   "metadata": {},
   "outputs": [],
   "source": [
    "LogData_thuegaenergie_vectorstore = Chroma.from_documents(chuncked_LogData_thuegaenergie, embed, persist_directory=\"C:/LogData_thuegaenergie_db\")\n",
    "LogData_thuegaenergie_vectorstore.persist()"
   ]
  },
  {
   "cell_type": "code",
   "execution_count": 186,
   "metadata": {},
   "outputs": [],
   "source": [
    "thuegaenergie_company_data_vectorstore = Chroma.from_documents(chuncked_thuegaenergie_company_data, embed, persist_directory=\"C:/thuegaenergie_company_db\")\n",
    "thuegaenergie_company_data_vectorstore.persist()"
   ]
  },
  {
   "cell_type": "code",
   "execution_count": 17,
   "metadata": {},
   "outputs": [],
   "source": [
    "intents_configuration_data_vectorstore2 = Chroma(persist_directory=\"C:/chuncked_intents_configuration_db\", embedding_function=embed)\n",
    "customer_data_vectorstore2 = Chroma(persist_directory=\"C:/customer_db\", embedding_function=embed)\n",
    "meterreading_data_vectorstore2 = Chroma(persist_directory=\"C:/meterreading_db\", embedding_function=embed)\n",
    "LogData_thuegaenergie_vectorstore2 = Chroma(persist_directory=\"C:/LogData_thuegaenergie_db\", embedding_function=embed)\n",
    "thuegaenergie_company_data_vectorstore2 = Chroma(persist_directory=\"C:/thuegaenergie_company_db\", embedding_function=embed)\n"
   ]
  },
  {
   "cell_type": "code",
   "execution_count": 19,
   "metadata": {},
   "outputs": [],
   "source": [
    "retriever1 = intents_configuration_data_vectorstore2.as_retriever(search_type=\"similarity\", search_kwargs={\"k\":3})\n",
    "retriever2 = customer_data_vectorstore2.as_retriever(search_type=\"similarity\", search_kwargs={\"k\":1})\n",
    "retriever3 = meterreading_data_vectorstore2.as_retriever(search_type=\"similarity\", search_kwargs={\"k\":1})\n",
    "retriever4 = LogData_thuegaenergie_vectorstore2.as_retriever(search_type=\"similarity\", search_kwargs={\"k\":3})\n",
    "retriever5 = thuegaenergie_company_data_vectorstore2.as_retriever(search_type=\"similarity\", search_kwargs={\"k\":3})"
   ]
  },
  {
   "cell_type": "code",
   "execution_count": 20,
   "metadata": {},
   "outputs": [],
   "source": [
    "from langchain.tools.retriever import create_retriever_tool"
   ]
  },
  {
   "cell_type": "code",
   "execution_count": 21,
   "metadata": {},
   "outputs": [],
   "source": [
    "intents_configuration_data_retriever_tool=create_retriever_tool(retriever1,\"intents_configuration_search\",\n",
    "                      \"Search for information about Intents and Configurations Overview. For any questions about Intents and Configurations, you must use this tool!\")"
   ]
  },
  {
   "cell_type": "code",
   "execution_count": 22,
   "metadata": {},
   "outputs": [],
   "source": [
    "customer_data_retriever_tool=create_retriever_tool(retriever2,\"customerdata_search\",\n",
    "                      \"Search for information about Customerdata. For any questions about Customerdata, you must use this tool!\")"
   ]
  },
  {
   "cell_type": "code",
   "execution_count": 23,
   "metadata": {},
   "outputs": [],
   "source": [
    "meterreading_data_retriever_tool=create_retriever_tool(retriever3,\"meterreadingdata__search\",\n",
    "                      \"Search for information about Meterreading. For any questions about meterreading, you must use this tool!\")"
   ]
  },
  {
   "cell_type": "code",
   "execution_count": 24,
   "metadata": {},
   "outputs": [],
   "source": [
    "LogData_thuegaenergie_retriever_tool=create_retriever_tool(retriever4,\"thuegaenergielogdata_search\",\n",
    "                      \"Search for information about Logdata of Thuegaenergie. For any questions about Logdata of Thuegaenergie, you must use this tool!\")"
   ]
  },
  {
   "cell_type": "code",
   "execution_count": 26,
   "metadata": {},
   "outputs": [],
   "source": [
    "thuegaenergie_company_data_retriever_tool=create_retriever_tool(retriever5,\"thuegaenergiecompany_search\",\n",
    "                      \"Search for information about thuegaenergie company. For any questions about thuegaenergie company, you must use this tool!\")"
   ]
  },
  {
   "cell_type": "code",
   "execution_count": 196,
   "metadata": {},
   "outputs": [
    {
     "name": "stdout",
     "output_type": "stream",
     "text": [
      "Requirement already satisfied: pip in c:\\users\\admin\\appdata\\local\\programs\\python\\python312\\lib\\site-packages (24.0)Note: you may need to restart the kernel to use updated packages.\n",
      "\n",
      "Requirement already satisfied: wikipedia in c:\\users\\admin\\appdata\\local\\programs\\python\\python312\\lib\\site-packages (1.4.0)\n",
      "Requirement already satisfied: beautifulsoup4 in c:\\users\\admin\\appdata\\roaming\\python\\python312\\site-packages (from wikipedia) (4.12.3)\n",
      "Requirement already satisfied: requests<3.0.0,>=2.0.0 in c:\\users\\admin\\appdata\\roaming\\python\\python312\\site-packages (from wikipedia) (2.31.0)\n",
      "Requirement already satisfied: charset-normalizer<4,>=2 in c:\\users\\admin\\appdata\\roaming\\python\\python312\\site-packages (from requests<3.0.0,>=2.0.0->wikipedia) (3.3.2)\n",
      "Requirement already satisfied: idna<4,>=2.5 in c:\\users\\admin\\appdata\\roaming\\python\\python312\\site-packages (from requests<3.0.0,>=2.0.0->wikipedia) (3.6)\n",
      "Requirement already satisfied: urllib3<3,>=1.21.1 in c:\\users\\admin\\appdata\\roaming\\python\\python312\\site-packages (from requests<3.0.0,>=2.0.0->wikipedia) (2.1.0)\n",
      "Requirement already satisfied: certifi>=2017.4.17 in c:\\users\\admin\\appdata\\roaming\\python\\python312\\site-packages (from requests<3.0.0,>=2.0.0->wikipedia) (2023.11.17)\n",
      "Requirement already satisfied: soupsieve>1.2 in c:\\users\\admin\\appdata\\roaming\\python\\python312\\site-packages (from beautifulsoup4->wikipedia) (2.5)\n"
     ]
    }
   ],
   "source": [
    "%pip install pip wikipedia"
   ]
  },
  {
   "cell_type": "code",
   "execution_count": 27,
   "metadata": {},
   "outputs": [],
   "source": [
    "from langchain_community.tools import WikipediaQueryRun\n",
    "from langchain_community.utilities import WikipediaAPIWrapper"
   ]
  },
  {
   "cell_type": "code",
   "execution_count": 28,
   "metadata": {},
   "outputs": [],
   "source": [
    "api_wrapper=WikipediaAPIWrapper(top_k_results=1,doc_content_chars_max=200)\n",
    "wiki=WikipediaQueryRun(api_wrapper=api_wrapper)"
   ]
  },
  {
   "cell_type": "code",
   "execution_count": 29,
   "metadata": {},
   "outputs": [
    {
     "data": {
      "text/plain": [
       "'wikipedia'"
      ]
     },
     "execution_count": 29,
     "metadata": {},
     "output_type": "execute_result"
    }
   ],
   "source": [
    "wiki.name"
   ]
  },
  {
   "cell_type": "code",
   "execution_count": 30,
   "metadata": {},
   "outputs": [
    {
     "data": {
      "text/plain": [
       "'Page: German Renewable Energy Sources Act\\nSummary: The Renewable Energy Sources Act\\u202f or EEG (German: Erneuerbare-Energien-Gesetz) is a series of German laws that originally provided a feed-in tariff ('"
      ]
     },
     "execution_count": 30,
     "metadata": {},
     "output_type": "execute_result"
    }
   ],
   "source": [
    "wiki.run(\"What is eeg umlage\")"
   ]
  },
  {
   "cell_type": "code",
   "execution_count": 31,
   "metadata": {},
   "outputs": [],
   "source": [
    "tools=[intents_configuration_data_retriever_tool, customer_data_retriever_tool, meterreading_data_retriever_tool, LogData_thuegaenergie_retriever_tool, thuegaenergie_company_data_retriever_tool, wiki ]"
   ]
  },
  {
   "cell_type": "code",
   "execution_count": 32,
   "metadata": {},
   "outputs": [
    {
     "data": {
      "text/plain": [
       "[Tool(name='intents_configuration_search', description='Search for information about Intents and Configurations Overview. For any questions about Intents and Configurations, you must use this tool!', args_schema=<class 'langchain.tools.retriever.RetrieverInput'>, func=functools.partial(<function _get_relevant_documents at 0x000001368D967600>, retriever=VectorStoreRetriever(tags=['Chroma', 'AzureOpenAIEmbeddings'], vectorstore=<langchain_community.vectorstores.chroma.Chroma object at 0x000001368B204980>, search_kwargs={'k': 3}), document_prompt=PromptTemplate(input_variables=['page_content'], template='{page_content}'), document_separator='\\n\\n'), coroutine=functools.partial(<function _aget_relevant_documents at 0x000001368D967D80>, retriever=VectorStoreRetriever(tags=['Chroma', 'AzureOpenAIEmbeddings'], vectorstore=<langchain_community.vectorstores.chroma.Chroma object at 0x000001368B204980>, search_kwargs={'k': 3}), document_prompt=PromptTemplate(input_variables=['page_content'], template='{page_content}'), document_separator='\\n\\n')),\n",
       " Tool(name='customerdata_search', description='Search for information about Customerdata. For any questions about Customerdata, you must use this tool!', args_schema=<class 'langchain.tools.retriever.RetrieverInput'>, func=functools.partial(<function _get_relevant_documents at 0x000001368D967600>, retriever=VectorStoreRetriever(tags=['Chroma', 'AzureOpenAIEmbeddings'], vectorstore=<langchain_community.vectorstores.chroma.Chroma object at 0x000001368D723AA0>, search_kwargs={'k': 1}), document_prompt=PromptTemplate(input_variables=['page_content'], template='{page_content}'), document_separator='\\n\\n'), coroutine=functools.partial(<function _aget_relevant_documents at 0x000001368D967D80>, retriever=VectorStoreRetriever(tags=['Chroma', 'AzureOpenAIEmbeddings'], vectorstore=<langchain_community.vectorstores.chroma.Chroma object at 0x000001368D723AA0>, search_kwargs={'k': 1}), document_prompt=PromptTemplate(input_variables=['page_content'], template='{page_content}'), document_separator='\\n\\n')),\n",
       " Tool(name='meterreadingdata__search', description='Search for information about Meterreading. For any questions about meterreading, you must use this tool!', args_schema=<class 'langchain.tools.retriever.RetrieverInput'>, func=functools.partial(<function _get_relevant_documents at 0x000001368D967600>, retriever=VectorStoreRetriever(tags=['Chroma', 'AzureOpenAIEmbeddings'], vectorstore=<langchain_community.vectorstores.chroma.Chroma object at 0x000001368D4238F0>, search_kwargs={'k': 1}), document_prompt=PromptTemplate(input_variables=['page_content'], template='{page_content}'), document_separator='\\n\\n'), coroutine=functools.partial(<function _aget_relevant_documents at 0x000001368D967D80>, retriever=VectorStoreRetriever(tags=['Chroma', 'AzureOpenAIEmbeddings'], vectorstore=<langchain_community.vectorstores.chroma.Chroma object at 0x000001368D4238F0>, search_kwargs={'k': 1}), document_prompt=PromptTemplate(input_variables=['page_content'], template='{page_content}'), document_separator='\\n\\n')),\n",
       " Tool(name='thuegaenergielogdata_search', description='Search for information about Logdata of Thuegaenergie. For any questions about Logdata of Thuegaenergie, you must use this tool!', args_schema=<class 'langchain.tools.retriever.RetrieverInput'>, func=functools.partial(<function _get_relevant_documents at 0x000001368D967600>, retriever=VectorStoreRetriever(tags=['Chroma', 'AzureOpenAIEmbeddings'], vectorstore=<langchain_community.vectorstores.chroma.Chroma object at 0x000001368D957D10>, search_kwargs={'k': 3}), document_prompt=PromptTemplate(input_variables=['page_content'], template='{page_content}'), document_separator='\\n\\n'), coroutine=functools.partial(<function _aget_relevant_documents at 0x000001368D967D80>, retriever=VectorStoreRetriever(tags=['Chroma', 'AzureOpenAIEmbeddings'], vectorstore=<langchain_community.vectorstores.chroma.Chroma object at 0x000001368D957D10>, search_kwargs={'k': 3}), document_prompt=PromptTemplate(input_variables=['page_content'], template='{page_content}'), document_separator='\\n\\n')),\n",
       " Tool(name='thuegaenergiecompany_search', description='Search for information about thuegaenergie company. For any questions about thuegaenergie company, you must use this tool!', args_schema=<class 'langchain.tools.retriever.RetrieverInput'>, func=functools.partial(<function _get_relevant_documents at 0x000001368D967600>, retriever=VectorStoreRetriever(tags=['Chroma', 'AzureOpenAIEmbeddings'], vectorstore=<langchain_community.vectorstores.chroma.Chroma object at 0x000001368D974FB0>, search_kwargs={'k': 3}), document_prompt=PromptTemplate(input_variables=['page_content'], template='{page_content}'), document_separator='\\n\\n'), coroutine=functools.partial(<function _aget_relevant_documents at 0x000001368D967D80>, retriever=VectorStoreRetriever(tags=['Chroma', 'AzureOpenAIEmbeddings'], vectorstore=<langchain_community.vectorstores.chroma.Chroma object at 0x000001368D974FB0>, search_kwargs={'k': 3}), document_prompt=PromptTemplate(input_variables=['page_content'], template='{page_content}'), document_separator='\\n\\n')),\n",
       " WikipediaQueryRun(api_wrapper=WikipediaAPIWrapper(wiki_client=<module 'wikipedia' from 'c:\\\\Users\\\\Admin\\\\AppData\\\\Local\\\\Programs\\\\Python\\\\Python312\\\\Lib\\\\site-packages\\\\wikipedia\\\\__init__.py'>, top_k_results=1, lang='en', load_all_available_meta=False, doc_content_chars_max=200))]"
      ]
     },
     "execution_count": 32,
     "metadata": {},
     "output_type": "execute_result"
    }
   ],
   "source": [
    "tools"
   ]
  },
  {
   "cell_type": "code",
   "execution_count": 33,
   "metadata": {},
   "outputs": [],
   "source": [
    "from langchain import hub\n",
    "prompt = hub.pull(\"hwchase17/openai-functions-agent\")"
   ]
  },
  {
   "cell_type": "code",
   "execution_count": 34,
   "metadata": {},
   "outputs": [
    {
     "data": {
      "text/plain": [
       "[SystemMessagePromptTemplate(prompt=PromptTemplate(input_variables=[], template='You are a helpful assistant')),\n",
       " MessagesPlaceholder(variable_name='chat_history', optional=True),\n",
       " HumanMessagePromptTemplate(prompt=PromptTemplate(input_variables=['input'], template='{input}')),\n",
       " MessagesPlaceholder(variable_name='agent_scratchpad')]"
      ]
     },
     "execution_count": 34,
     "metadata": {},
     "output_type": "execute_result"
    }
   ],
   "source": [
    "prompt.messages"
   ]
  },
  {
   "cell_type": "code",
   "execution_count": 35,
   "metadata": {},
   "outputs": [],
   "source": [
    "from langchain.agents import create_openai_tools_agent\n",
    "agent=create_openai_tools_agent(gpt,tools,prompt)"
   ]
  },
  {
   "cell_type": "code",
   "execution_count": 36,
   "metadata": {},
   "outputs": [],
   "source": [
    "from langchain.agents import AgentExecutor\n",
    "agent_executor=AgentExecutor(agent=agent,tools=tools,verbose=True)\n"
   ]
  },
  {
   "cell_type": "code",
   "execution_count": 37,
   "metadata": {},
   "outputs": [
    {
     "data": {
      "text/plain": [
       "AgentExecutor(verbose=True, agent=RunnableMultiActionAgent(runnable=RunnableAssign(mapper={\n",
       "  agent_scratchpad: RunnableLambda(lambda x: format_to_openai_tool_messages(x['intermediate_steps']))\n",
       "})\n",
       "| ChatPromptTemplate(input_variables=['agent_scratchpad', 'input'], input_types={'chat_history': typing.List[typing.Union[langchain_core.messages.ai.AIMessage, langchain_core.messages.human.HumanMessage, langchain_core.messages.chat.ChatMessage, langchain_core.messages.system.SystemMessage, langchain_core.messages.function.FunctionMessage, langchain_core.messages.tool.ToolMessage]], 'agent_scratchpad': typing.List[typing.Union[langchain_core.messages.ai.AIMessage, langchain_core.messages.human.HumanMessage, langchain_core.messages.chat.ChatMessage, langchain_core.messages.system.SystemMessage, langchain_core.messages.function.FunctionMessage, langchain_core.messages.tool.ToolMessage]]}, metadata={'lc_hub_owner': 'hwchase17', 'lc_hub_repo': 'openai-functions-agent', 'lc_hub_commit_hash': 'a1655024b06afbd95d17449f21316291e0726f13dcfaf990cc0d18087ad689a5'}, messages=[SystemMessagePromptTemplate(prompt=PromptTemplate(input_variables=[], template='You are a helpful assistant')), MessagesPlaceholder(variable_name='chat_history', optional=True), HumanMessagePromptTemplate(prompt=PromptTemplate(input_variables=['input'], template='{input}')), MessagesPlaceholder(variable_name='agent_scratchpad')])\n",
       "| RunnableBinding(bound=AzureChatOpenAI(verbose=True, client=<openai.resources.chat.completions.Completions object at 0x000001368B1B5EE0>, async_client=<openai.resources.chat.completions.AsyncCompletions object at 0x0000013689CDDD30>, temperature=0.1, openai_api_key=SecretStr('**********'), openai_proxy='', azure_endpoint='https://chatbotopenaikeyswe.openai.azure.com/', deployment_name='gpt-35-turbo-1106', openai_api_version='2023-12-01-preview', openai_api_type='azure'), kwargs={'tools': [{'type': 'function', 'function': {'name': 'intents_configuration_search', 'description': 'Search for information about Intents and Configurations Overview. For any questions about Intents and Configurations, you must use this tool!', 'parameters': {'type': 'object', 'properties': {'query': {'description': 'query to look up in retriever', 'type': 'string'}}, 'required': ['query']}}}, {'type': 'function', 'function': {'name': 'customerdata_search', 'description': 'Search for information about Customerdata. For any questions about Customerdata, you must use this tool!', 'parameters': {'type': 'object', 'properties': {'query': {'description': 'query to look up in retriever', 'type': 'string'}}, 'required': ['query']}}}, {'type': 'function', 'function': {'name': 'meterreadingdata__search', 'description': 'Search for information about Meterreading. For any questions about meterreading, you must use this tool!', 'parameters': {'type': 'object', 'properties': {'query': {'description': 'query to look up in retriever', 'type': 'string'}}, 'required': ['query']}}}, {'type': 'function', 'function': {'name': 'thuegaenergielogdata_search', 'description': 'Search for information about Logdata of Thuegaenergie. For any questions about Logdata of Thuegaenergie, you must use this tool!', 'parameters': {'type': 'object', 'properties': {'query': {'description': 'query to look up in retriever', 'type': 'string'}}, 'required': ['query']}}}, {'type': 'function', 'function': {'name': 'thuegaenergiecompany_search', 'description': 'Search for information about thuegaenergie company. For any questions about thuegaenergie company, you must use this tool!', 'parameters': {'type': 'object', 'properties': {'query': {'description': 'query to look up in retriever', 'type': 'string'}}, 'required': ['query']}}}, {'type': 'function', 'function': {'name': 'wikipedia', 'description': 'A wrapper around Wikipedia. Useful for when you need to answer general questions about people, places, companies, facts, historical events, or other subjects. Input should be a search query.', 'parameters': {'properties': {'__arg1': {'title': '__arg1', 'type': 'string'}}, 'required': ['__arg1'], 'type': 'object'}}}]})\n",
       "| OpenAIToolsAgentOutputParser(), input_keys_arg=[], return_keys_arg=[], stream_runnable=True), tools=[Tool(name='intents_configuration_search', description='Search for information about Intents and Configurations Overview. For any questions about Intents and Configurations, you must use this tool!', args_schema=<class 'langchain.tools.retriever.RetrieverInput'>, func=functools.partial(<function _get_relevant_documents at 0x000001368D967600>, retriever=VectorStoreRetriever(tags=['Chroma', 'AzureOpenAIEmbeddings'], vectorstore=<langchain_community.vectorstores.chroma.Chroma object at 0x000001368B204980>, search_kwargs={'k': 3}), document_prompt=PromptTemplate(input_variables=['page_content'], template='{page_content}'), document_separator='\\n\\n'), coroutine=functools.partial(<function _aget_relevant_documents at 0x000001368D967D80>, retriever=VectorStoreRetriever(tags=['Chroma', 'AzureOpenAIEmbeddings'], vectorstore=<langchain_community.vectorstores.chroma.Chroma object at 0x000001368B204980>, search_kwargs={'k': 3}), document_prompt=PromptTemplate(input_variables=['page_content'], template='{page_content}'), document_separator='\\n\\n')), Tool(name='customerdata_search', description='Search for information about Customerdata. For any questions about Customerdata, you must use this tool!', args_schema=<class 'langchain.tools.retriever.RetrieverInput'>, func=functools.partial(<function _get_relevant_documents at 0x000001368D967600>, retriever=VectorStoreRetriever(tags=['Chroma', 'AzureOpenAIEmbeddings'], vectorstore=<langchain_community.vectorstores.chroma.Chroma object at 0x000001368D723AA0>, search_kwargs={'k': 1}), document_prompt=PromptTemplate(input_variables=['page_content'], template='{page_content}'), document_separator='\\n\\n'), coroutine=functools.partial(<function _aget_relevant_documents at 0x000001368D967D80>, retriever=VectorStoreRetriever(tags=['Chroma', 'AzureOpenAIEmbeddings'], vectorstore=<langchain_community.vectorstores.chroma.Chroma object at 0x000001368D723AA0>, search_kwargs={'k': 1}), document_prompt=PromptTemplate(input_variables=['page_content'], template='{page_content}'), document_separator='\\n\\n')), Tool(name='meterreadingdata__search', description='Search for information about Meterreading. For any questions about meterreading, you must use this tool!', args_schema=<class 'langchain.tools.retriever.RetrieverInput'>, func=functools.partial(<function _get_relevant_documents at 0x000001368D967600>, retriever=VectorStoreRetriever(tags=['Chroma', 'AzureOpenAIEmbeddings'], vectorstore=<langchain_community.vectorstores.chroma.Chroma object at 0x000001368D4238F0>, search_kwargs={'k': 1}), document_prompt=PromptTemplate(input_variables=['page_content'], template='{page_content}'), document_separator='\\n\\n'), coroutine=functools.partial(<function _aget_relevant_documents at 0x000001368D967D80>, retriever=VectorStoreRetriever(tags=['Chroma', 'AzureOpenAIEmbeddings'], vectorstore=<langchain_community.vectorstores.chroma.Chroma object at 0x000001368D4238F0>, search_kwargs={'k': 1}), document_prompt=PromptTemplate(input_variables=['page_content'], template='{page_content}'), document_separator='\\n\\n')), Tool(name='thuegaenergielogdata_search', description='Search for information about Logdata of Thuegaenergie. For any questions about Logdata of Thuegaenergie, you must use this tool!', args_schema=<class 'langchain.tools.retriever.RetrieverInput'>, func=functools.partial(<function _get_relevant_documents at 0x000001368D967600>, retriever=VectorStoreRetriever(tags=['Chroma', 'AzureOpenAIEmbeddings'], vectorstore=<langchain_community.vectorstores.chroma.Chroma object at 0x000001368D957D10>, search_kwargs={'k': 3}), document_prompt=PromptTemplate(input_variables=['page_content'], template='{page_content}'), document_separator='\\n\\n'), coroutine=functools.partial(<function _aget_relevant_documents at 0x000001368D967D80>, retriever=VectorStoreRetriever(tags=['Chroma', 'AzureOpenAIEmbeddings'], vectorstore=<langchain_community.vectorstores.chroma.Chroma object at 0x000001368D957D10>, search_kwargs={'k': 3}), document_prompt=PromptTemplate(input_variables=['page_content'], template='{page_content}'), document_separator='\\n\\n')), Tool(name='thuegaenergiecompany_search', description='Search for information about thuegaenergie company. For any questions about thuegaenergie company, you must use this tool!', args_schema=<class 'langchain.tools.retriever.RetrieverInput'>, func=functools.partial(<function _get_relevant_documents at 0x000001368D967600>, retriever=VectorStoreRetriever(tags=['Chroma', 'AzureOpenAIEmbeddings'], vectorstore=<langchain_community.vectorstores.chroma.Chroma object at 0x000001368D974FB0>, search_kwargs={'k': 3}), document_prompt=PromptTemplate(input_variables=['page_content'], template='{page_content}'), document_separator='\\n\\n'), coroutine=functools.partial(<function _aget_relevant_documents at 0x000001368D967D80>, retriever=VectorStoreRetriever(tags=['Chroma', 'AzureOpenAIEmbeddings'], vectorstore=<langchain_community.vectorstores.chroma.Chroma object at 0x000001368D974FB0>, search_kwargs={'k': 3}), document_prompt=PromptTemplate(input_variables=['page_content'], template='{page_content}'), document_separator='\\n\\n')), WikipediaQueryRun(api_wrapper=WikipediaAPIWrapper(wiki_client=<module 'wikipedia' from 'c:\\\\Users\\\\Admin\\\\AppData\\\\Local\\\\Programs\\\\Python\\\\Python312\\\\Lib\\\\site-packages\\\\wikipedia\\\\__init__.py'>, top_k_results=1, lang='en', load_all_available_meta=False, doc_content_chars_max=200))])"
      ]
     },
     "execution_count": 37,
     "metadata": {},
     "output_type": "execute_result"
    }
   ],
   "source": [
    "agent_executor"
   ]
  },
  {
   "cell_type": "code",
   "execution_count": 38,
   "metadata": {},
   "outputs": [
    {
     "name": "stdout",
     "output_type": "stream",
     "text": [
      "\n",
      "\n",
      "\u001b[1m> Entering new AgentExecutor chain...\u001b[0m\n",
      "\u001b[32;1m\u001b[1;3m\n",
      "Invoking: `thuegaenergiecompany_search` with `{'query': 'Thugaenergie'}`\n",
      "\n",
      "\n",
      "\u001b[0m\u001b[33;1m\u001b[1;3m(C) 2024 Thüga Energie\n",
      "\n",
      "  * Privatkunden \n",
      "    * Strom \n",
      "    * Erdgas \n",
      "    * Wärme \n",
      "    * Photovoltaik \n",
      "    * E-Mobilität \n",
      "    * Internet \n",
      "    * Energieberatung \n",
      "    * Förderprogramme \n",
      "  * Geschäftskunden \n",
      "    * Strom \n",
      "      * Gewerbekunden \n",
      "      * Industrie- und Großkunden \n",
      "      * Wohnungswirtschaft \n",
      "      * Kommunen \n",
      "      * Energie- und Wasserversorger \n",
      "    * Erdgas \n",
      "      * Gewerbekunden \n",
      "      * Industrie- und Großkunden \n",
      "      * Wohnungswirtschaft \n",
      "      * Kommunen \n",
      "      * Energie- und Wasserversorgung \n",
      "    * Contracting \n",
      "    * Photovoltaik \n",
      "    * E-Mobilität \n",
      "    * Telekommunikation \n",
      "    * Dienstleistungen \n",
      "  * Über uns \n",
      "    * Portrait \n",
      "    * Nachhaltigkeit \n",
      "    * Sponsoring \n",
      "    * Auszeichnungen \n",
      "    * Presse \n",
      "  * Karriere \n",
      "    * Stellenangebote \n",
      "    * Ausbildung \n",
      "    * Duales Studium \n",
      "    * FAQ zu Ausbildung & Studium \n",
      "  * Service \n",
      "    * Kundenportale \n",
      "    * Umzug melden \n",
      "    * FAQ \n",
      "    * Downloads \n",
      "    * Kontakt\n",
      "\n",
      "Thüga Energie ist erneut Förderer der Regionalgruppe Singen\n",
      "\n",
      "Weiterlesen\n",
      "\n",
      "Weitere aktuelle Meldungen finden Sie in unserem Pressebereich\n",
      "\n",
      "__ Kontakt\n",
      "\n",
      "__ Online-Service\n",
      "\n",
      "__ Facebook\n",
      "\n",
      "__ Instagram\n",
      "\n",
      "**Kundenzentrum  \n",
      "Hegau-Bodensee**  \n",
      "Industriestraße 9  \n",
      "78224 Singen  \n",
      "So finden Sie uns\n",
      "\n",
      "Tel. 07731 5900 - 0  \n",
      "Fax 07731 5900 - 1303  \n",
      "E-Mail schreiben\n",
      "\n",
      "Servicezeiten:  \n",
      "Mo 08:00 - 16:00 Uhr  \n",
      "Di 08:00 - 18:00 Uhr  \n",
      "Mi 08:00 - 12:30 Uhr  \n",
      "Do 08:00 - 16:00 Uhr  \n",
      "Fr 08:00 - 12:30 Uhr  \n",
      "oder nach Vereinbarung\n",
      "\n",
      "**Kundenzentrum  \n",
      "Rhein-Pfalz**  \n",
      "Bahnhofstraße 104  \n",
      "67105 Schifferstadt  \n",
      "So finden Sie uns\n",
      "\n",
      "Tel. 06235 4903-0  \n",
      "Fax 06235 4903 - 1100  \n",
      "E-Mail schreiben\n",
      "\n",
      "Servicezeiten:  \n",
      "Mo 08:00 - 16:00 Uhr  \n",
      "Di 08:00 - 18:00 Uhr  \n",
      "Mi 08:00 - 12:30 Uhr  \n",
      "Do 08:00 - 16:00 Uhr  \n",
      "Fr 08:00 - 12:30 Uhr  \n",
      "oder nach Vereinbarung\n",
      "\n",
      "**Kundenzentrum  \n",
      "Südpfalz**  \n",
      "Mittlere Ortsstraße 106  \n",
      "76761 Rülzheim  \n",
      "So finden Sie uns\n",
      "\n",
      "Tel. 07272 9292-0  \n",
      "Fax 07272 9292 - 1102  \n",
      "E-Mail schreiben\n",
      "\n",
      "Umzugsservice\n",
      "\n",
      "Ganz einfach Strom und Gas ummelden\n",
      "\n",
      "FAQ\n",
      "\n",
      "Antworten auf  häufig gestellte Fragen\n",
      "\n",
      "Preisblätter & Formulare\n",
      "\n",
      "Alle wichtigen Dokumente\n",
      "\n",
      "##  Aktuelles\n",
      "\n",
      "29.04.2024\n",
      "\n",
      "###  Thüga Energie macht Umsetzung von Herzensprojekten möglich\n",
      "\n",
      "Vereine, Bildungseinrichtungen und Initiativen können sich bis zum 30. Juni\n",
      "2024 mit einem sozialen oder nachhaltigen Projekt bewerben.\n",
      "\n",
      "Weiterlesen\n",
      "\n",
      "05.04.2024\n",
      "\n",
      "###  Vogelhäuser sorgen für große Freude\n",
      "\n",
      "> Thüga Energie überrascht Naturkindergarten Moorfrösche mit Geschenk\n",
      "\n",
      "Weiterlesen\n",
      "\n",
      "28.03.2024\n",
      "\n",
      "###  Freude über erneute Auszeichnung\n",
      "\n",
      "> Thüga Energie erhält auch 2024 das Siegel „Top Lokalversorger“\n",
      "\n",
      "Weiterlesen\n",
      "\n",
      "21.03.2024\n",
      "\n",
      "###  Minigärtner: Mit den Händen die Natur begreifen\n",
      "\n",
      "Thüga Energie ist erneut Förderer der Regionalgruppe Singen\n",
      "\n",
      "Weiterlesen\n",
      "\n",
      "Weitere aktuelle Meldungen finden Sie in unserem Pressebereich\n",
      "\n",
      "__ Kontakt\n",
      "\n",
      "__ Online-Service\n",
      "\n",
      "__ Facebook\n",
      "\n",
      "__ Instagram\u001b[0m\u001b[32;1m\u001b[1;3mThüga Energie is a company that provides energy services to both private and business customers. Their services include electricity, natural gas, heat, photovoltaics, e-mobility, internet, energy consulting, and support programs for customers. They also offer services for business customers such as electricity, natural gas, contracting, photovoltaics, e-mobility, telecommunications, and other related services. Thüga Energie is also involved in sustainability, sponsoring, and has received various awards. They have customer centers in different locations and provide online services as well. Additionally, they are involved in community initiatives and support social and sustainable projects.\u001b[0m\n",
      "\n",
      "\u001b[1m> Finished chain.\u001b[0m\n"
     ]
    },
    {
     "data": {
      "text/plain": [
       "{'input': 'What is Thugaenergie?',\n",
       " 'output': 'Thüga Energie is a company that provides energy services to both private and business customers. Their services include electricity, natural gas, heat, photovoltaics, e-mobility, internet, energy consulting, and support programs for customers. They also offer services for business customers such as electricity, natural gas, contracting, photovoltaics, e-mobility, telecommunications, and other related services. Thüga Energie is also involved in sustainability, sponsoring, and has received various awards. They have customer centers in different locations and provide online services as well. Additionally, they are involved in community initiatives and support social and sustainable projects.'}"
      ]
     },
     "execution_count": 38,
     "metadata": {},
     "output_type": "execute_result"
    }
   ],
   "source": [
    "agent_executor.invoke({\"input\":\"What is Thugaenergie?\"})\n"
   ]
  },
  {
   "cell_type": "code",
   "execution_count": 210,
   "metadata": {},
   "outputs": [
    {
     "name": "stdout",
     "output_type": "stream",
     "text": [
      "\n",
      "\n",
      "\u001b[1m> Entering new AgentExecutor chain...\u001b[0m\n",
      "\u001b[32;1m\u001b[1;3m\n",
      "Invoking: `thuegaenergiecompany_search` with `{'query': 'services'}`\n",
      "\n",
      "\n",
      "\u001b[0m\u001b[33;1m\u001b[1;3m(C) 2024 Thüga Energie\n",
      "\n",
      "  * Privatkunden \n",
      "    * Strom \n",
      "    * Erdgas \n",
      "    * Wärme \n",
      "    * Photovoltaik \n",
      "    * E-Mobilität \n",
      "    * Internet \n",
      "    * Energieberatung \n",
      "    * Förderprogramme \n",
      "  * Geschäftskunden \n",
      "    * Strom \n",
      "      * Gewerbekunden \n",
      "      * Industrie- und Großkunden \n",
      "      * Wohnungswirtschaft \n",
      "      * Kommunen \n",
      "      * Energie- und Wasserversorger \n",
      "    * Erdgas \n",
      "      * Gewerbekunden \n",
      "      * Industrie- und Großkunden \n",
      "      * Wohnungswirtschaft \n",
      "      * Kommunen \n",
      "      * Energie- und Wasserversorgung \n",
      "    * Contracting \n",
      "    * Photovoltaik \n",
      "    * E-Mobilität \n",
      "    * Telekommunikation \n",
      "    * Dienstleistungen \n",
      "  * Über uns \n",
      "    * Portrait \n",
      "    * Nachhaltigkeit \n",
      "    * Sponsoring \n",
      "    * Auszeichnungen \n",
      "    * Presse \n",
      "  * Karriere \n",
      "    * Stellenangebote \n",
      "    * Ausbildung \n",
      "    * Duales Studium \n",
      "    * FAQ zu Ausbildung & Studium \n",
      "  * Service \n",
      "    * Kundenportale \n",
      "    * Umzug melden \n",
      "    * FAQ \n",
      "    * Downloads \n",
      "    * Kontakt\n",
      "\n",
      "Umzugsservice\n",
      "\n",
      "Ganz einfach Strom und Gas ummelden\n",
      "\n",
      "FAQ\n",
      "\n",
      "Antworten auf  häufig gestellte Fragen\n",
      "\n",
      "Preisblätter & Formulare\n",
      "\n",
      "Alle wichtigen Dokumente\n",
      "\n",
      "##  Aktuelles\n",
      "\n",
      "29.04.2024\n",
      "\n",
      "###  Thüga Energie macht Umsetzung von Herzensprojekten möglich\n",
      "\n",
      "Vereine, Bildungseinrichtungen und Initiativen können sich bis zum 30. Juni\n",
      "2024 mit einem sozialen oder nachhaltigen Projekt bewerben.\n",
      "\n",
      "Weiterlesen\n",
      "\n",
      "05.04.2024\n",
      "\n",
      "###  Vogelhäuser sorgen für große Freude\n",
      "\n",
      "> Thüga Energie überrascht Naturkindergarten Moorfrösche mit Geschenk\n",
      "\n",
      "Weiterlesen\n",
      "\n",
      "28.03.2024\n",
      "\n",
      "###  Freude über erneute Auszeichnung\n",
      "\n",
      "> Thüga Energie erhält auch 2024 das Siegel „Top Lokalversorger“\n",
      "\n",
      "Weiterlesen\n",
      "\n",
      "21.03.2024\n",
      "\n",
      "###  Minigärtner: Mit den Händen die Natur begreifen\n",
      "\n",
      "Thüga Energie ist erneut Förderer der Regionalgruppe Singen\n",
      "\n",
      "Weiterlesen\n",
      "\n",
      "Weitere aktuelle Meldungen finden Sie in unserem Pressebereich\n",
      "\n",
      "__ Kontakt\n",
      "\n",
      "__ Online-Service\n",
      "\n",
      "__ Facebook\n",
      "\n",
      "__ Instagram\n",
      "\n",
      "Thüga Energie ist erneut Förderer der Regionalgruppe Singen\n",
      "\n",
      "Weiterlesen\n",
      "\n",
      "Weitere aktuelle Meldungen finden Sie in unserem Pressebereich\n",
      "\n",
      "__ Kontakt\n",
      "\n",
      "__ Online-Service\n",
      "\n",
      "__ Facebook\n",
      "\n",
      "__ Instagram\n",
      "\n",
      "**Kundenzentrum  \n",
      "Hegau-Bodensee**  \n",
      "Industriestraße 9  \n",
      "78224 Singen  \n",
      "So finden Sie uns\n",
      "\n",
      "Tel. 07731 5900 - 0  \n",
      "Fax 07731 5900 - 1303  \n",
      "E-Mail schreiben\n",
      "\n",
      "Servicezeiten:  \n",
      "Mo 08:00 - 16:00 Uhr  \n",
      "Di 08:00 - 18:00 Uhr  \n",
      "Mi 08:00 - 12:30 Uhr  \n",
      "Do 08:00 - 16:00 Uhr  \n",
      "Fr 08:00 - 12:30 Uhr  \n",
      "oder nach Vereinbarung\n",
      "\n",
      "**Kundenzentrum  \n",
      "Rhein-Pfalz**  \n",
      "Bahnhofstraße 104  \n",
      "67105 Schifferstadt  \n",
      "So finden Sie uns\n",
      "\n",
      "Tel. 06235 4903-0  \n",
      "Fax 06235 4903 - 1100  \n",
      "E-Mail schreiben\n",
      "\n",
      "Servicezeiten:  \n",
      "Mo 08:00 - 16:00 Uhr  \n",
      "Di 08:00 - 18:00 Uhr  \n",
      "Mi 08:00 - 12:30 Uhr  \n",
      "Do 08:00 - 16:00 Uhr  \n",
      "Fr 08:00 - 12:30 Uhr  \n",
      "oder nach Vereinbarung\n",
      "\n",
      "**Kundenzentrum  \n",
      "Südpfalz**  \n",
      "Mittlere Ortsstraße 106  \n",
      "76761 Rülzheim  \n",
      "So finden Sie uns\n",
      "\n",
      "Tel. 07272 9292-0  \n",
      "Fax 07272 9292 - 1102  \n",
      "E-Mail schreiben\u001b[0m\u001b[32;1m\u001b[1;3mThüga Energie provides a range of services for both private and business customers. For private customers, the services include electricity, natural gas, heat, photovoltaics, e-mobility, internet, energy consulting, and support programs. For business customers, the services include electricity for commercial customers, industry and large customers, housing industry, municipalities, and energy and water suppliers. Additionally, Thüga Energie offers natural gas services for commercial customers, industry and large customers, housing industry, municipalities, and energy and water supply. Other services provided include contracting, photovoltaics, e-mobility, telecommunications, and various other services.\n",
      "\n",
      "Thüga Energie also offers customer portals, relocation services, frequently asked questions (FAQ), downloads, and contact information for customer service.\n",
      "\n",
      "If you have any specific questions about these services or need further information, feel free to ask!\u001b[0m\n",
      "\n",
      "\u001b[1m> Finished chain.\u001b[0m\n"
     ]
    },
    {
     "data": {
      "text/plain": [
       "{'input': 'What services do they provide?',\n",
       " 'output': 'Thüga Energie provides a range of services for both private and business customers. For private customers, the services include electricity, natural gas, heat, photovoltaics, e-mobility, internet, energy consulting, and support programs. For business customers, the services include electricity for commercial customers, industry and large customers, housing industry, municipalities, and energy and water suppliers. Additionally, Thüga Energie offers natural gas services for commercial customers, industry and large customers, housing industry, municipalities, and energy and water supply. Other services provided include contracting, photovoltaics, e-mobility, telecommunications, and various other services.\\n\\nThüga Energie also offers customer portals, relocation services, frequently asked questions (FAQ), downloads, and contact information for customer service.\\n\\nIf you have any specific questions about these services or need further information, feel free to ask!'}"
      ]
     },
     "execution_count": 210,
     "metadata": {},
     "output_type": "execute_result"
    }
   ],
   "source": [
    "agent_executor.invoke({\"input\":\"What services do they provide?\"})"
   ]
  },
  {
   "cell_type": "code",
   "execution_count": 211,
   "metadata": {},
   "outputs": [
    {
     "name": "stdout",
     "output_type": "stream",
     "text": [
      "\n",
      "\n",
      "\u001b[1m> Entering new AgentExecutor chain...\u001b[0m\n",
      "\u001b[32;1m\u001b[1;3m\n",
      "Invoking: `wikipedia` with `PV Modules`\n",
      "\n",
      "\n",
      "\u001b[0m\u001b[38;5;200m\u001b[1;3mPage: Solar panel\n",
      "Summary: A solar panel is a device that converts sunlight into electricity by using photovoltaic (PV) cells. PV cells are made of materials that produce excited electrons when expose\u001b[0m\u001b[32;1m\u001b[1;3mPV Modules, also known as solar panels, are devices that convert sunlight into electricity by using photovoltaic (PV) cells. These cells are made of materials that produce excited electrons when exposed to sunlight.\u001b[0m\n",
      "\n",
      "\u001b[1m> Finished chain.\u001b[0m\n"
     ]
    },
    {
     "data": {
      "text/plain": [
       "{'input': 'What are PV Modules?',\n",
       " 'output': 'PV Modules, also known as solar panels, are devices that convert sunlight into electricity by using photovoltaic (PV) cells. These cells are made of materials that produce excited electrons when exposed to sunlight.'}"
      ]
     },
     "execution_count": 211,
     "metadata": {},
     "output_type": "execute_result"
    }
   ],
   "source": [
    "agent_executor.invoke({\"input\":\"What are PV Modules?\"})"
   ]
  },
  {
   "cell_type": "code",
   "execution_count": 212,
   "metadata": {},
   "outputs": [
    {
     "name": "stdout",
     "output_type": "stream",
     "text": [
      "\n",
      "\n",
      "\u001b[1m> Entering new AgentExecutor chain...\u001b[0m\n",
      "\u001b[32;1m\u001b[1;3m\n",
      "Invoking: `meterreadingdata__search` with `{'query': 'meter id 1244'}`\n",
      "\n",
      "\n",
      "\u001b[0m\u001b[38;5;200m\u001b[1;3mmeterId: 1244\n",
      "meterNumber: ZEI2332DE2\n",
      "section: Power\n",
      "validFrom: \n",
      "validTo: 2023-05-04 23:59:59\u001b[0m\u001b[32;1m\u001b[1;3mThe meter number for meter ID 1244 is ZEI2332DE2.\u001b[0m\n",
      "\n",
      "\u001b[1m> Finished chain.\u001b[0m\n"
     ]
    },
    {
     "data": {
      "text/plain": [
       "{'input': 'What is the meter number of  meter id 1244',\n",
       " 'output': 'The meter number for meter ID 1244 is ZEI2332DE2.'}"
      ]
     },
     "execution_count": 212,
     "metadata": {},
     "output_type": "execute_result"
    }
   ],
   "source": [
    "agent_executor.invoke({\"input\":\"What is the meter number of  meter id 1244\"})"
   ]
  },
  {
   "cell_type": "code",
   "execution_count": 213,
   "metadata": {},
   "outputs": [
    {
     "name": "stdout",
     "output_type": "stream",
     "text": [
      "\n",
      "\n",
      "\u001b[1m> Entering new AgentExecutor chain...\u001b[0m\n",
      "\u001b[32;1m\u001b[1;3m\n",
      "Invoking: `meterreadingdata__search` with `{'query': 'metertype'}`\n",
      "\n",
      "\n",
      "\u001b[0m\u001b[38;5;200m\u001b[1;3mmeterType: ZTZ\n",
      "digitsBeforeDecimal: \n",
      "digitsAfterDecimal: \n",
      "registerId: 2\n",
      "obis: 1-1:1.8.2\n",
      "label: NT\u001b[0m\u001b[32;1m\u001b[1;3mThe meter type is ZTZ.\u001b[0m\n",
      "\n",
      "\u001b[1m> Finished chain.\u001b[0m\n"
     ]
    },
    {
     "data": {
      "text/plain": [
       "{'input': 'What is its metertype', 'output': 'The meter type is ZTZ.'}"
      ]
     },
     "execution_count": 213,
     "metadata": {},
     "output_type": "execute_result"
    }
   ],
   "source": [
    "agent_executor.invoke({\"input\":\"What is its metertype\"})"
   ]
  },
  {
   "cell_type": "code",
   "execution_count": 214,
   "metadata": {},
   "outputs": [
    {
     "name": "stdout",
     "output_type": "stream",
     "text": [
      "\n",
      "\n",
      "\u001b[1m> Entering new AgentExecutor chain...\u001b[0m\n",
      "\u001b[32;1m\u001b[1;3m\n",
      "Invoking: `intents_configuration_search` with `{'query': 'power contract end date'}`\n",
      "\n",
      "\n",
      "\u001b[0m\u001b[36;1m\u001b[1;3manswerId: 128395\n",
      "text: Die Strom- und Gaspreisbremsen **enden** zum **31. Dezember 2023**. Ab **Januar 2024** ist wieder der vertraglich vereinbarte Preis für den gesamten Verbrauch zu zahlen, was eine Erhöhung der Abschläge zur Folge haben kann.\n",
      "identificatorKey: \n",
      "identificatorId: 0\n",
      "identificatorReadableName: \n",
      "identificatorDescription: \n",
      "answer_configId: 87661\n",
      "type: multi\n",
      "customer: thuegaenergie\n",
      "virtualIntentName: Grund der Abschlagsänderung\n",
      "intent: reasonForPaymentAmountChange\n",
      "entityName: noneEntity\n",
      "normalizedEntityValue: noneNormalizedValue\n",
      "answer_channel: default\n",
      "redirect_to_config: 0\n",
      "readable_redirect_to_config: \n",
      "cancelButtonLabel: abbrechen\n",
      "entityId: 0\n",
      "entity_key: \n",
      "adaptive_cards_length: \n",
      "cards_length: 0\n",
      "button_length: 0\n",
      "buttons:\n",
      "\n",
      "answerId: 127637\n",
      "text: Die **VerjÃ¤hrungsfrist** fÃ¼r Zahlungsforderungen aus Energielieferungen betrÃ¤gt gemÃ¤ÃŸ Â§ 195 BGB **drei Jahre**. Der Lauf der VerjÃ¤hrungsfrist beginnt gemÃ¤ÃŸ Â§ 199 BGB mit dem Ende des Jahres, in dem der Anspruch entstanden ist. Wenn beispielsweise die Energielieferung im Jahr 2020 erbracht wurde, endet die VerjÃ¤hrungsfrist am 31. Dezember 2023.\n",
      "identificatorKey: \n",
      "identificatorId: 0\n",
      "identificatorReadableName: \n",
      "identificatorDescription: \n",
      "answer_configId: 88734\n",
      "type: multi\n",
      "customer: thuegaenergie\n",
      "virtualIntentName: VerjÃ¤hrung von Rechnungen\n",
      "intent: invoiceExpiration\n",
      "entityName: noneEntity\n",
      "normalizedEntityValue: noneNormalizedValue\n",
      "answer_channel: default\n",
      "redirect_to_config: 0\n",
      "readable_redirect_to_config: \n",
      "cancelButtonLabel: abbrechen\n",
      "entityId: 0\n",
      "entity_key: \n",
      "adaptive_cards_length: \n",
      "cards_length: 0\n",
      "button_length: 0\n",
      "buttons:\n",
      "\n",
      "answerId: 127637\n",
      "text: Die **Verjährungsfrist** für Zahlungsforderungen aus Energielieferungen beträgt gemäß § 195 BGB **drei Jahre**. Der Lauf der Verjährungsfrist beginnt gemäß § 199 BGB mit dem Ende des Jahres, in dem der Anspruch entstanden ist. Wenn beispielsweise die Energielieferung im Jahr 2020 erbracht wurde, endet die Verjährungsfrist am 31. Dezember 2023.\n",
      "identificatorKey: \n",
      "identificatorId: 0\n",
      "identificatorReadableName: \n",
      "identificatorDescription: \n",
      "answer_configId: 88734\n",
      "type: multi\n",
      "customer: thuegaenergie\n",
      "virtualIntentName: Verjährung von Rechnungen\n",
      "intent: invoiceExpiration\n",
      "entityName: noneEntity\n",
      "normalizedEntityValue: noneNormalizedValue\n",
      "answer_channel: default\n",
      "redirect_to_config: 0\n",
      "readable_redirect_to_config: \n",
      "cancelButtonLabel: abbrechen\n",
      "entityId: 0\n",
      "entity_key: \n",
      "adaptive_cards_length: \n",
      "cards_length: 0\n",
      "button_length: 0\n",
      "buttons:\u001b[0m\u001b[32;1m\u001b[1;3mThe power contract ends on December 31, 2023. After January 2024, the contractually agreed price for the entire consumption will be payable, which may result in an increase in the installments.\u001b[0m\n",
      "\n",
      "\u001b[1m> Finished chain.\u001b[0m\n"
     ]
    },
    {
     "data": {
      "text/plain": [
       "{'input': 'When does power contract ends',\n",
       " 'output': 'The power contract ends on December 31, 2023. After January 2024, the contractually agreed price for the entire consumption will be payable, which may result in an increase in the installments.'}"
      ]
     },
     "execution_count": 214,
     "metadata": {},
     "output_type": "execute_result"
    }
   ],
   "source": [
    "agent_executor.invoke({\"input\":\"When does power contract ends\"})"
   ]
  },
  {
   "cell_type": "code",
   "execution_count": 215,
   "metadata": {},
   "outputs": [
    {
     "name": "stdout",
     "output_type": "stream",
     "text": [
      "\n",
      "\n",
      "\u001b[1m> Entering new AgentExecutor chain...\u001b[0m\n",
      "\u001b[32;1m\u001b[1;3m\n",
      "Invoking: `customerdata_search` with `{'query': 'Gas contract number of Sebastian'}`\n",
      "\n",
      "\n",
      "\u001b[0m\u001b[33;1m\u001b[1;3mcontractNumber: ES00000062980\n",
      "section: Gas\n",
      "invoicingInterval: 12\n",
      "cancellationDateTo:\u001b[0m\u001b[32;1m\u001b[1;3mThe gas contract number for the customer named Sebastian is ES00000062980.\u001b[0m\n",
      "\n",
      "\u001b[1m> Finished chain.\u001b[0m\n"
     ]
    },
    {
     "data": {
      "text/plain": [
       "{'input': 'What is the Gas contract number of the customer named Sebastian?',\n",
       " 'output': 'The gas contract number for the customer named Sebastian is ES00000062980.'}"
      ]
     },
     "execution_count": 215,
     "metadata": {},
     "output_type": "execute_result"
    }
   ],
   "source": [
    "agent_executor.invoke({\"input\":\"What is the Gas contract number of the customer named Sebastian?\"})"
   ]
  },
  {
   "cell_type": "code",
   "execution_count": 216,
   "metadata": {},
   "outputs": [
    {
     "name": "stdout",
     "output_type": "stream",
     "text": [
      "\n",
      "\n",
      "\u001b[1m> Entering new AgentExecutor chain...\u001b[0m\n",
      "\u001b[32;1m\u001b[1;3m\n",
      "Invoking: `customerdata_search` with `{'query': 'Gas contract start and end period of the customer named Sebastian'}`\n",
      "\n",
      "\n",
      "\u001b[0m\u001b[33;1m\u001b[1;3mcontractNumber: ES00000062980\n",
      "section: Gas\n",
      "invoicingInterval: 12\n",
      "cancellationDateTo:\u001b[0m\u001b[32;1m\u001b[1;3mThe gas contract start and end period for the customer named Sebastian is as follows:\n",
      "- Contract Number: ES00000062980\n",
      "- Invoicing Interval: 12 months\n",
      "- Cancellation Date: Not specified\n",
      "\n",
      "If you need more information, feel free to ask!\u001b[0m\n",
      "\n",
      "\u001b[1m> Finished chain.\u001b[0m\n"
     ]
    },
    {
     "data": {
      "text/plain": [
       "{'input': 'What is the Gas contract start and end period of the customer named Sebastian?',\n",
       " 'output': 'The gas contract start and end period for the customer named Sebastian is as follows:\\n- Contract Number: ES00000062980\\n- Invoicing Interval: 12 months\\n- Cancellation Date: Not specified\\n\\nIf you need more information, feel free to ask!'}"
      ]
     },
     "execution_count": 216,
     "metadata": {},
     "output_type": "execute_result"
    }
   ],
   "source": [
    "agent_executor.invoke({\"input\":\"What is the Gas contract start and end period of the customer named Sebastian?\"})"
   ]
  },
  {
   "cell_type": "code",
   "execution_count": 217,
   "metadata": {},
   "outputs": [
    {
     "name": "stdout",
     "output_type": "stream",
     "text": [
      "\n",
      "\n",
      "\u001b[1m> Entering new AgentExecutor chain...\u001b[0m\n",
      "\u001b[32;1m\u001b[1;3m\n",
      "Invoking: `customerdata_search` with `{'query': 'IBAN and bankname'}`\n",
      "\n",
      "\n",
      "\u001b[0m\u001b[33;1m\u001b[1;3mfirstName: Sebastian\n",
      "lastName: Loecke\n",
      "bankName: Commerzbank Koln\n",
      "iban: DE89370400440532013000\u001b[0m\u001b[32;1m\u001b[1;3mSebastian Loecke's IBAN is DE89370400440532013000 and his bank name is Commerzbank Köln.\u001b[0m\n",
      "\n",
      "\u001b[1m> Finished chain.\u001b[0m\n"
     ]
    },
    {
     "data": {
      "text/plain": [
       "{'input': 'What is his IBAN and bankname',\n",
       " 'output': \"Sebastian Loecke's IBAN is DE89370400440532013000 and his bank name is Commerzbank Köln.\"}"
      ]
     },
     "execution_count": 217,
     "metadata": {},
     "output_type": "execute_result"
    }
   ],
   "source": [
    "agent_executor.invoke({\"input\":\"What is his IBAN and bankname\"})"
   ]
  },
  {
   "cell_type": "code",
   "execution_count": 218,
   "metadata": {},
   "outputs": [
    {
     "name": "stdout",
     "output_type": "stream",
     "text": [
      "\n",
      "\n",
      "\u001b[1m> Entering new AgentExecutor chain...\u001b[0m\n",
      "\u001b[32;1m\u001b[1;3m\n",
      "Invoking: `wikipedia` with `Renewable Energy Act`\n",
      "\n",
      "\n",
      "\u001b[0m\u001b[38;5;200m\u001b[1;3mPage: German Renewable Energy Sources Act\n",
      "Summary: The Renewable Energy Sources Act  or EEG (German: Erneuerbare-Energien-Gesetz) is a series of German laws that originally provided a feed-in tariff (\u001b[0m\u001b[32;1m\u001b[1;3mThe Renewable Energy Sources Act (EEG) is a series of German laws that originally provided a feed-in tariff for renewable energy. It was designed to encourage the generation of electricity from renewable sources such as wind, solar, and biomass. The EEG has been instrumental in promoting the expansion of renewable energy in Germany and has served as a model for other countries' renewable energy policies. If you need more specific information, feel free to ask!\u001b[0m\n",
      "\n",
      "\u001b[1m> Finished chain.\u001b[0m\n"
     ]
    },
    {
     "data": {
      "text/plain": [
       "{'input': 'eeg umlaage, Renewable energy act',\n",
       " 'output': \"The Renewable Energy Sources Act (EEG) is a series of German laws that originally provided a feed-in tariff for renewable energy. It was designed to encourage the generation of electricity from renewable sources such as wind, solar, and biomass. The EEG has been instrumental in promoting the expansion of renewable energy in Germany and has served as a model for other countries' renewable energy policies. If you need more specific information, feel free to ask!\"}"
      ]
     },
     "execution_count": 218,
     "metadata": {},
     "output_type": "execute_result"
    }
   ],
   "source": [
    "agent_executor.invoke({\"input\":\"eeg umlaage, Renewable energy act\"})"
   ]
  },
  {
   "cell_type": "code",
   "execution_count": 39,
   "metadata": {},
   "outputs": [],
   "source": [
    "prompt = hub.pull(\"hwchase17/react\")"
   ]
  },
  {
   "cell_type": "code",
   "execution_count": 40,
   "metadata": {},
   "outputs": [
    {
     "name": "stdout",
     "output_type": "stream",
     "text": [
      "Answer the following questions as best you can. You have access to the following tools:\n",
      "\n",
      "{tools}\n",
      "\n",
      "Use the following format:\n",
      "\n",
      "Question: the input question you must answer\n",
      "Thought: you should always think about what to do\n",
      "Action: the action to take, should be one of [{tool_names}]\n",
      "Action Input: the input to the action\n",
      "Observation: the result of the action\n",
      "... (this Thought/Action/Action Input/Observation can repeat N times)\n",
      "Thought: I now know the final answer\n",
      "Final Answer: the final answer to the original input question\n",
      "\n",
      "Begin!\n",
      "\n",
      "Question: {input}\n",
      "Thought:{agent_scratchpad}\n"
     ]
    }
   ],
   "source": [
    "#print(prompt.messages[0].prompt.template)\n",
    "print(prompt.template)"
   ]
  },
  {
   "cell_type": "code",
   "execution_count": 41,
   "metadata": {},
   "outputs": [],
   "source": [
    "from langchain.agents import AgentExecutor, create_react_agent\n",
    "agent=create_react_agent(gpt,tools,prompt)"
   ]
  },
  {
   "cell_type": "code",
   "execution_count": 42,
   "metadata": {},
   "outputs": [],
   "source": [
    "agent_executor=AgentExecutor(agent=agent,tools=tools,verbose=True)"
   ]
  },
  {
   "cell_type": "code",
   "execution_count": 43,
   "metadata": {},
   "outputs": [
    {
     "name": "stdout",
     "output_type": "stream",
     "text": [
      "\n",
      "\n",
      "\u001b[1m> Entering new AgentExecutor chain...\u001b[0m\n",
      "\u001b[32;1m\u001b[1;3mI should use the thuegaenergiecompany_search tool to find information about Thugaenergie.\n",
      "Action: thuegaenergiecompany_search\n",
      "Action Input: Thugaenergie\u001b[0m\u001b[33;1m\u001b[1;3m(C) 2024 Thüga Energie\n",
      "\n",
      "  * Privatkunden \n",
      "    * Strom \n",
      "    * Erdgas \n",
      "    * Wärme \n",
      "    * Photovoltaik \n",
      "    * E-Mobilität \n",
      "    * Internet \n",
      "    * Energieberatung \n",
      "    * Förderprogramme \n",
      "  * Geschäftskunden \n",
      "    * Strom \n",
      "      * Gewerbekunden \n",
      "      * Industrie- und Großkunden \n",
      "      * Wohnungswirtschaft \n",
      "      * Kommunen \n",
      "      * Energie- und Wasserversorger \n",
      "    * Erdgas \n",
      "      * Gewerbekunden \n",
      "      * Industrie- und Großkunden \n",
      "      * Wohnungswirtschaft \n",
      "      * Kommunen \n",
      "      * Energie- und Wasserversorgung \n",
      "    * Contracting \n",
      "    * Photovoltaik \n",
      "    * E-Mobilität \n",
      "    * Telekommunikation \n",
      "    * Dienstleistungen \n",
      "  * Über uns \n",
      "    * Portrait \n",
      "    * Nachhaltigkeit \n",
      "    * Sponsoring \n",
      "    * Auszeichnungen \n",
      "    * Presse \n",
      "  * Karriere \n",
      "    * Stellenangebote \n",
      "    * Ausbildung \n",
      "    * Duales Studium \n",
      "    * FAQ zu Ausbildung & Studium \n",
      "  * Service \n",
      "    * Kundenportale \n",
      "    * Umzug melden \n",
      "    * FAQ \n",
      "    * Downloads \n",
      "    * Kontakt\n",
      "\n",
      "Thüga Energie ist erneut Förderer der Regionalgruppe Singen\n",
      "\n",
      "Weiterlesen\n",
      "\n",
      "Weitere aktuelle Meldungen finden Sie in unserem Pressebereich\n",
      "\n",
      "__ Kontakt\n",
      "\n",
      "__ Online-Service\n",
      "\n",
      "__ Facebook\n",
      "\n",
      "__ Instagram\n",
      "\n",
      "**Kundenzentrum  \n",
      "Hegau-Bodensee**  \n",
      "Industriestraße 9  \n",
      "78224 Singen  \n",
      "So finden Sie uns\n",
      "\n",
      "Tel. 07731 5900 - 0  \n",
      "Fax 07731 5900 - 1303  \n",
      "E-Mail schreiben\n",
      "\n",
      "Servicezeiten:  \n",
      "Mo 08:00 - 16:00 Uhr  \n",
      "Di 08:00 - 18:00 Uhr  \n",
      "Mi 08:00 - 12:30 Uhr  \n",
      "Do 08:00 - 16:00 Uhr  \n",
      "Fr 08:00 - 12:30 Uhr  \n",
      "oder nach Vereinbarung\n",
      "\n",
      "**Kundenzentrum  \n",
      "Rhein-Pfalz**  \n",
      "Bahnhofstraße 104  \n",
      "67105 Schifferstadt  \n",
      "So finden Sie uns\n",
      "\n",
      "Tel. 06235 4903-0  \n",
      "Fax 06235 4903 - 1100  \n",
      "E-Mail schreiben\n",
      "\n",
      "Servicezeiten:  \n",
      "Mo 08:00 - 16:00 Uhr  \n",
      "Di 08:00 - 18:00 Uhr  \n",
      "Mi 08:00 - 12:30 Uhr  \n",
      "Do 08:00 - 16:00 Uhr  \n",
      "Fr 08:00 - 12:30 Uhr  \n",
      "oder nach Vereinbarung\n",
      "\n",
      "**Kundenzentrum  \n",
      "Südpfalz**  \n",
      "Mittlere Ortsstraße 106  \n",
      "76761 Rülzheim  \n",
      "So finden Sie uns\n",
      "\n",
      "Tel. 07272 9292-0  \n",
      "Fax 07272 9292 - 1102  \n",
      "E-Mail schreiben\n",
      "\n",
      "Umzugsservice\n",
      "\n",
      "Ganz einfach Strom und Gas ummelden\n",
      "\n",
      "FAQ\n",
      "\n",
      "Antworten auf  häufig gestellte Fragen\n",
      "\n",
      "Preisblätter & Formulare\n",
      "\n",
      "Alle wichtigen Dokumente\n",
      "\n",
      "##  Aktuelles\n",
      "\n",
      "29.04.2024\n",
      "\n",
      "###  Thüga Energie macht Umsetzung von Herzensprojekten möglich\n",
      "\n",
      "Vereine, Bildungseinrichtungen und Initiativen können sich bis zum 30. Juni\n",
      "2024 mit einem sozialen oder nachhaltigen Projekt bewerben.\n",
      "\n",
      "Weiterlesen\n",
      "\n",
      "05.04.2024\n",
      "\n",
      "###  Vogelhäuser sorgen für große Freude\n",
      "\n",
      "> Thüga Energie überrascht Naturkindergarten Moorfrösche mit Geschenk\n",
      "\n",
      "Weiterlesen\n",
      "\n",
      "28.03.2024\n",
      "\n",
      "###  Freude über erneute Auszeichnung\n",
      "\n",
      "> Thüga Energie erhält auch 2024 das Siegel „Top Lokalversorger“\n",
      "\n",
      "Weiterlesen\n",
      "\n",
      "21.03.2024\n",
      "\n",
      "###  Minigärtner: Mit den Händen die Natur begreifen\n",
      "\n",
      "Thüga Energie ist erneut Förderer der Regionalgruppe Singen\n",
      "\n",
      "Weiterlesen\n",
      "\n",
      "Weitere aktuelle Meldungen finden Sie in unserem Pressebereich\n",
      "\n",
      "__ Kontakt\n",
      "\n",
      "__ Online-Service\n",
      "\n",
      "__ Facebook\n",
      "\n",
      "__ Instagram\u001b[0m\u001b[32;1m\u001b[1;3mI now know the final answer\n",
      "Final Answer: Thüga Energie is a company that provides electricity, natural gas, heat, photovoltaics, e-mobility, internet, energy consulting, and support programs for private and business customers. They also offer services such as contracting, telecommunications, and other services. They are involved in sustainability, sponsoring, and have received awards. They have customer centers in Singen, Schifferstadt, and Rülzheim.\u001b[0m\n",
      "\n",
      "\u001b[1m> Finished chain.\u001b[0m\n"
     ]
    },
    {
     "data": {
      "text/plain": [
       "{'input': 'What is Thugaenergie?',\n",
       " 'output': 'Thüga Energie is a company that provides electricity, natural gas, heat, photovoltaics, e-mobility, internet, energy consulting, and support programs for private and business customers. They also offer services such as contracting, telecommunications, and other services. They are involved in sustainability, sponsoring, and have received awards. They have customer centers in Singen, Schifferstadt, and Rülzheim.'}"
      ]
     },
     "execution_count": 43,
     "metadata": {},
     "output_type": "execute_result"
    }
   ],
   "source": [
    "agent_executor.invoke({\"input\":\"What is Thugaenergie?\"})"
   ]
  },
  {
   "cell_type": "code",
   "execution_count": 59,
   "metadata": {},
   "outputs": [
    {
     "name": "stdout",
     "output_type": "stream",
     "text": [
      "\n",
      "\n",
      "\u001b[1m> Entering new AgentExecutor chain...\u001b[0m\n",
      "\u001b[32;1m\u001b[1;3mI should use the Wikipedia tool to find out what thuegaenergie is famous for.\n",
      "Action: wikipedia\n",
      "Action Input: thuegaenergie\u001b[0m\u001b[38;5;200m\u001b[1;3mNo good Wikipedia Search Result was found\u001b[0m\u001b[32;1m\u001b[1;3mI should use the thuegaenergiecompany_search tool to find out what thuegaenergie is famous for.\n",
      "Action: thuegaenergiecompany_search\n",
      "Action Input: thuegaenergie\u001b[0m\u001b[33;1m\u001b[1;3m(C) 2024 Thüga Energie\n",
      "\n",
      "  * Privatkunden \n",
      "    * Strom \n",
      "    * Erdgas \n",
      "    * Wärme \n",
      "    * Photovoltaik \n",
      "    * E-Mobilität \n",
      "    * Internet \n",
      "    * Energieberatung \n",
      "    * Förderprogramme \n",
      "  * Geschäftskunden \n",
      "    * Strom \n",
      "      * Gewerbekunden \n",
      "      * Industrie- und Großkunden \n",
      "      * Wohnungswirtschaft \n",
      "      * Kommunen \n",
      "      * Energie- und Wasserversorger \n",
      "    * Erdgas \n",
      "      * Gewerbekunden \n",
      "      * Industrie- und Großkunden \n",
      "      * Wohnungswirtschaft \n",
      "      * Kommunen \n",
      "      * Energie- und Wasserversorgung \n",
      "    * Contracting \n",
      "    * Photovoltaik \n",
      "    * E-Mobilität \n",
      "    * Telekommunikation \n",
      "    * Dienstleistungen \n",
      "  * Über uns \n",
      "    * Portrait \n",
      "    * Nachhaltigkeit \n",
      "    * Sponsoring \n",
      "    * Auszeichnungen \n",
      "    * Presse \n",
      "  * Karriere \n",
      "    * Stellenangebote \n",
      "    * Ausbildung \n",
      "    * Duales Studium \n",
      "    * FAQ zu Ausbildung & Studium \n",
      "  * Service \n",
      "    * Kundenportale \n",
      "    * Umzug melden \n",
      "    * FAQ \n",
      "    * Downloads \n",
      "    * Kontakt\n",
      "\n",
      "Thüga Energie ist erneut Förderer der Regionalgruppe Singen\n",
      "\n",
      "Weiterlesen\n",
      "\n",
      "Weitere aktuelle Meldungen finden Sie in unserem Pressebereich\n",
      "\n",
      "__ Kontakt\n",
      "\n",
      "__ Online-Service\n",
      "\n",
      "__ Facebook\n",
      "\n",
      "__ Instagram\n",
      "\n",
      "**Kundenzentrum  \n",
      "Hegau-Bodensee**  \n",
      "Industriestraße 9  \n",
      "78224 Singen  \n",
      "So finden Sie uns\n",
      "\n",
      "Tel. 07731 5900 - 0  \n",
      "Fax 07731 5900 - 1303  \n",
      "E-Mail schreiben\n",
      "\n",
      "Servicezeiten:  \n",
      "Mo 08:00 - 16:00 Uhr  \n",
      "Di 08:00 - 18:00 Uhr  \n",
      "Mi 08:00 - 12:30 Uhr  \n",
      "Do 08:00 - 16:00 Uhr  \n",
      "Fr 08:00 - 12:30 Uhr  \n",
      "oder nach Vereinbarung\n",
      "\n",
      "**Kundenzentrum  \n",
      "Rhein-Pfalz**  \n",
      "Bahnhofstraße 104  \n",
      "67105 Schifferstadt  \n",
      "So finden Sie uns\n",
      "\n",
      "Tel. 06235 4903-0  \n",
      "Fax 06235 4903 - 1100  \n",
      "E-Mail schreiben\n",
      "\n",
      "Servicezeiten:  \n",
      "Mo 08:00 - 16:00 Uhr  \n",
      "Di 08:00 - 18:00 Uhr  \n",
      "Mi 08:00 - 12:30 Uhr  \n",
      "Do 08:00 - 16:00 Uhr  \n",
      "Fr 08:00 - 12:30 Uhr  \n",
      "oder nach Vereinbarung\n",
      "\n",
      "**Kundenzentrum  \n",
      "Südpfalz**  \n",
      "Mittlere Ortsstraße 106  \n",
      "76761 Rülzheim  \n",
      "So finden Sie uns\n",
      "\n",
      "Tel. 07272 9292-0  \n",
      "Fax 07272 9292 - 1102  \n",
      "E-Mail schreiben\n",
      "\n",
      "Umzugsservice\n",
      "\n",
      "Ganz einfach Strom und Gas ummelden\n",
      "\n",
      "FAQ\n",
      "\n",
      "Antworten auf  häufig gestellte Fragen\n",
      "\n",
      "Preisblätter & Formulare\n",
      "\n",
      "Alle wichtigen Dokumente\n",
      "\n",
      "##  Aktuelles\n",
      "\n",
      "29.04.2024\n",
      "\n",
      "###  Thüga Energie macht Umsetzung von Herzensprojekten möglich\n",
      "\n",
      "Vereine, Bildungseinrichtungen und Initiativen können sich bis zum 30. Juni\n",
      "2024 mit einem sozialen oder nachhaltigen Projekt bewerben.\n",
      "\n",
      "Weiterlesen\n",
      "\n",
      "05.04.2024\n",
      "\n",
      "###  Vogelhäuser sorgen für große Freude\n",
      "\n",
      "> Thüga Energie überrascht Naturkindergarten Moorfrösche mit Geschenk\n",
      "\n",
      "Weiterlesen\n",
      "\n",
      "28.03.2024\n",
      "\n",
      "###  Freude über erneute Auszeichnung\n",
      "\n",
      "> Thüga Energie erhält auch 2024 das Siegel „Top Lokalversorger“\n",
      "\n",
      "Weiterlesen\n",
      "\n",
      "21.03.2024\n",
      "\n",
      "###  Minigärtner: Mit den Händen die Natur begreifen\n",
      "\n",
      "Thüga Energie ist erneut Förderer der Regionalgruppe Singen\n",
      "\n",
      "Weiterlesen\n",
      "\n",
      "Weitere aktuelle Meldungen finden Sie in unserem Pressebereich\n",
      "\n",
      "__ Kontakt\n",
      "\n",
      "__ Online-Service\n",
      "\n",
      "__ Facebook\n",
      "\n",
      "__ Instagram\u001b[0m\u001b[32;1m\u001b[1;3mI now know the final answer\n",
      "Final Answer: Thüga Energie is famous for providing electricity, natural gas, heat, photovoltaics, e-mobility, internet, energy consulting, and support programs for private and business customers. They are also known for their sustainability efforts, sponsoring, and awards.\u001b[0m\n",
      "\n",
      "\u001b[1m> Finished chain.\u001b[0m\n"
     ]
    },
    {
     "data": {
      "text/plain": [
       "{'input': 'What is it famous for?',\n",
       " 'output': 'Thüga Energie is famous for providing electricity, natural gas, heat, photovoltaics, e-mobility, internet, energy consulting, and support programs for private and business customers. They are also known for their sustainability efforts, sponsoring, and awards.'}"
      ]
     },
     "execution_count": 59,
     "metadata": {},
     "output_type": "execute_result"
    }
   ],
   "source": [
    "agent_executor.invoke({\"input\":\"What is it famous for?\"})"
   ]
  },
  {
   "cell_type": "code",
   "execution_count": 58,
   "metadata": {},
   "outputs": [
    {
     "data": {
      "text/plain": [
       "[{'url': 'https://apnews.com/article/germany-economy-energy-crisis-russia-8a00eebbfab3f20c5c66b1cd85ae84ed',\n",
       "  'content': '\"Germany is paying the price for its energy policies.\" Schmieding, who once dubbed Germany \"the sick man of Europe\" in an influential 1998 analysis, thinks that label would be overdone today, considering its low unemployment and strong government finances. That gives Germany room to act — but also lowers the pressure to make changes.'}]"
      ]
     },
     "execution_count": 58,
     "metadata": {},
     "output_type": "execute_result"
    }
   ],
   "source": [
    "import os\n",
    "\n",
    "os.environ[\"TAVILY_API_KEY\"] = \"api key\"\n",
    "from langchain_community.tools.tavily_search import TavilySearchResults\n",
    "\n",
    "tool = TavilySearchResults(max_results=1)\n",
    "tool.run({\"query\": \"WHat are the latest news about energy policices in Germany\"})"
   ]
  }
 ],
 "metadata": {
  "kernelspec": {
   "display_name": ".venv",
   "language": "python",
   "name": "python3"
  },
  "language_info": {
   "codemirror_mode": {
    "name": "ipython",
    "version": 3
   },
   "file_extension": ".py",
   "mimetype": "text/x-python",
   "name": "python",
   "nbconvert_exporter": "python",
   "pygments_lexer": "ipython3",
   "version": "3.12.3"
  }
 },
 "nbformat": 4,
 "nbformat_minor": 2
}
