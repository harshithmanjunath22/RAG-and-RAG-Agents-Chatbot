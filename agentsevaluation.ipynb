{
 "cells": [
  {
   "cell_type": "code",
   "execution_count": null,
   "metadata": {},
   "outputs": [],
   "source": [
    "import os\n",
    "from langchain_openai import OpenAI"
   ]
  },
  {
   "cell_type": "code",
   "execution_count": 54,
   "metadata": {},
   "outputs": [],
   "source": [
    "import os\n",
    "from dotenv import load_dotenv\n",
    "\n",
    "load_dotenv()\n",
    "\n",
    "LANGCHAIN_TRACING_V2 = os.getenv(\"LANGCHAIN_TRACING_V2\")\n",
    "LANGCHAIN_ENDPOINT = os.getenv(\"LANGCHAIN_ENDPOINT\")\n",
    "LANGCHAIN_API_KEY = os.getenv(\"LANGCHAIN_API_KEY\")\n",
    "LANGCHAIN_PROJECT = os.getenv(\"LANGCHAIN_PROJECT\")"
   ]
  },
  {
   "cell_type": "code",
   "execution_count": 3,
   "metadata": {},
   "outputs": [],
   "source": [
    "from langchain_openai import AzureChatOpenAI\n",
    "\n",
    "gpt = AzureChatOpenAI(\n",
    "    azure_deployment=\"gpt-35-turbo-1106\",\n",
    "    openai_api_key=\"7c3f9550b69c419aa0f1830e338ff562\",\n",
    "    openai_api_type=\"azure\",\n",
    "    openai_api_version=\"2023-12-01-preview\",\n",
    "    azure_endpoint=\"https://chatbotopenaikeyswe.openai.azure.com/\",\n",
    "    verbose=True,\n",
    "    temperature=0.1,\n",
    ")"
   ]
  },
  {
   "cell_type": "code",
   "execution_count": 4,
   "metadata": {},
   "outputs": [],
   "source": [
    "from langchain_openai import AzureOpenAIEmbeddings\n",
    "embed = AzureOpenAIEmbeddings(\n",
    "    azure_deployment=\"text-embedding-ada-002\",\n",
    "    openai_api_key=\"7c3f9550b69c419aa0f1830e338ff562\",\n",
    "    azure_endpoint=\"https://chatbotopenaikeyswe.openai.azure.com/\"\n",
    ")"
   ]
  },
  {
   "cell_type": "code",
   "execution_count": 5,
   "metadata": {},
   "outputs": [],
   "source": [
    "from langchain_community.document_loaders import DirectoryLoader\n",
    "from langchain_community.document_loaders import CSVLoader\n",
    "path = \"C:/Users/Admin/Desktop/hsag chatbot/CSVDATASET/Intent and Configuration Dataset\"\n",
    "csv_loader_kwargs={'autodetect_encoding': True}\n",
    "loader = DirectoryLoader(path, glob=\"**/*.csv\", loader_cls=CSVLoader, loader_kwargs=csv_loader_kwargs)\n",
    "intents_configuration_data  = loader.load()"
   ]
  },
  {
   "cell_type": "code",
   "execution_count": 7,
   "metadata": {},
   "outputs": [
    {
     "name": "stdout",
     "output_type": "stream",
     "text": [
      "Customer Data: {'contracts': [{'contractNumber': 'ES00000062980', 'section': 'Gas', 'invoicingInterval': 12, 'cancellationDateTo': None, 'periodStart': '2022-03-14T23:00:00.000Z', 'periodEnd': None, 'state': 'GPKE_APPROVED', 'nextPossibleCancellationDate': '2024-03-14T22:59:59.000Z'}], 'firstName': 'Sebastian', 'lastName': 'Löecke', 'bankAccounts': [{'bankName': 'Commerzbank Köln', 'iban': 'DE89370400440532013000', 'bic': 'COBADEFFXXX'}], 'customerNumber': '1005520645', 'adress': {'street': 'Schmiedeweg', 'housenumber': '10b', 'postalCode': '21481', 'city': 'Lauenburg'}}\n",
      "Meter Reading Data: {'meters': [{'meterId': 1244, 'meterNumber': 'ZEI2332DE2', 'section': 'Power', 'validFrom': None, 'validTo': '2023-05-04 23:59:59', 'readable': False, 'meterType': 'ZTZ', 'digitsBeforeDecimal': 5, 'digitsAfterDecimal': 0, 'register': [{'registerId': 1, 'obis': '1-1:1.8.1', 'label': 'HT', 'expectedLowerBound': 4554, 'expectedUpperBound': 5287}, {'registerId': 2, 'obis': '1-1:1.8.2', 'label': 'NT', 'expectedLowerBound': 3432, 'expectedUpperBound': 3657}]}, {'meterId': 32423, 'meterNumber': '972922', 'section': 'Power', 'validFrom': '2023-05-05 00:00:00', 'validTo': None, 'readable': True, 'meterType': 'ZTZ', 'register': [{'registerId': 1, 'obis': '1-1:1.8.1', 'label': 'HT', 'expectedLowerBound': 0, 'expectedUpperBound': 658}, {'registerId': 2, 'obis': '1-1:1.8.2', 'label': 'NT', 'expectedLowerBound': 0, 'expectedUpperBound': 360}]}]}\n"
     ]
    }
   ],
   "source": [
    "import requests\n",
    "\n",
    "# Base URL of your mock server\n",
    "base_url = \"https://b07dcf0f-cb3c-49d3-9990-47521f1415d5.mock.pstmn.io\"\n",
    "\n",
    "# Customer data endpoint\n",
    "meter_reading_url = f\"{base_url}/meter/getMeterForCustomer\"\n",
    "\n",
    "# Meter reading data endpoint\n",
    "customer_url = f\"{base_url}/contract/getCustomerData\"\n",
    "\n",
    "# Send GET requests to each endpoint\n",
    "customer_response = requests.get(customer_url)\n",
    "meter_reading_response = requests.get(meter_reading_url)\n",
    "\n",
    "# Handle responses\n",
    "if customer_response.status_code == 200:\n",
    "  customer_data = customer_response.json()\n",
    "  print(\"Customer Data:\", customer_data)\n",
    "else:\n",
    "  print(\"Error:\", customer_response.status_code)\n",
    "\n",
    "if meter_reading_response.status_code == 200:\n",
    "  meter_reading_data = meter_reading_response.json()\n",
    "  print(\"Meter Reading Data:\", meter_reading_data)\n",
    "else:\n",
    "  print(\"Error:\", meter_reading_response.status_code)\n"
   ]
  },
  {
   "cell_type": "code",
   "execution_count": 8,
   "metadata": {},
   "outputs": [],
   "source": [
    "erpdata = {**customer_data, **meter_reading_data}\n"
   ]
  },
  {
   "cell_type": "code",
   "execution_count": 10,
   "metadata": {},
   "outputs": [],
   "source": [
    "path = \"C:/Users/Admin/Desktop/hsag chatbot/CSVDATASET/Logdata\"\n",
    "csv_loader_kwargs={'autodetect_encoding': True}\n",
    "loader = DirectoryLoader(path, glob=\"**/*.csv\", loader_cls=CSVLoader, loader_kwargs=csv_loader_kwargs)\n",
    "LogData_thuegaenergie = loader.load()"
   ]
  },
  {
   "cell_type": "code",
   "execution_count": 12,
   "metadata": {},
   "outputs": [
    {
     "name": "stderr",
     "output_type": "stream",
     "text": [
      "Fetching pages: 100%|##########| 1/1 [00:00<00:00,  2.98it/s]\n"
     ]
    }
   ],
   "source": [
    "from langchain_community.document_loaders import AsyncHtmlLoader\n",
    "\n",
    "urls = [\"https://www.thuega-energie-gmbh.de/privatkunden.html\"]\n",
    "loader = AsyncHtmlLoader(urls)\n",
    "docs = loader.load()\n",
    "\n",
    "from langchain_community.document_transformers import Html2TextTransformer\n",
    "\n",
    "html2text = Html2TextTransformer()\n",
    "thuegaenergie_company_data = html2text.transform_documents(docs)"
   ]
  },
  {
   "cell_type": "code",
   "execution_count": 14,
   "metadata": {},
   "outputs": [],
   "source": [
    "import bs4\n",
    "from langchain import hub\n",
    "from langchain_community.document_loaders import WebBaseLoader\n",
    "from langchain_community.vectorstores import Chroma\n",
    "from langchain_core.output_parsers import StrOutputParser\n",
    "from langchain_core.runnables import RunnablePassthrough\n",
    "from langchain_openai import ChatOpenAI, OpenAIEmbeddings\n",
    "from langchain_text_splitters import RecursiveCharacterTextSplitter"
   ]
  },
  {
   "cell_type": "code",
   "execution_count": 15,
   "metadata": {},
   "outputs": [],
   "source": [
    "intents_configuration_data_text_splitter = RecursiveCharacterTextSplitter(\n",
    "    chunk_size=1000,\n",
    "    chunk_overlap=200,\n",
    "    length_function=len,\n",
    "    is_separator_regex=False,\n",
    ")"
   ]
  },
  {
   "cell_type": "code",
   "execution_count": 16,
   "metadata": {},
   "outputs": [],
   "source": [
    "from langchain_text_splitters import RecursiveJsonSplitter\n",
    "erpdata_text_splitter = RecursiveJsonSplitter(max_chunk_size=50)\n",
    "#json_chunks = customer_data_text_splitter.split_json(json_data=customer_data)\n",
    "chuncked_erp_data = erpdata_text_splitter.create_documents(texts=[erpdata])\n"
   ]
  },
  {
   "cell_type": "code",
   "execution_count": 17,
   "metadata": {},
   "outputs": [],
   "source": [
    "LogData_thuegaenergie_text_splitter = RecursiveCharacterTextSplitter(\n",
    "    chunk_size=2000,\n",
    "    chunk_overlap=200,\n",
    "    length_function=len,\n",
    "    is_separator_regex=False,\n",
    ")"
   ]
  },
  {
   "cell_type": "code",
   "execution_count": 18,
   "metadata": {},
   "outputs": [],
   "source": [
    "thuegaenergie_company_data_text_splitter = RecursiveCharacterTextSplitter(\n",
    "    chunk_size=1000,\n",
    "    chunk_overlap=200,\n",
    "    length_function=len,\n",
    "    is_separator_regex=False,\n",
    ")"
   ]
  },
  {
   "cell_type": "code",
   "execution_count": 19,
   "metadata": {},
   "outputs": [],
   "source": [
    "chuncked_intents_configuration_data = intents_configuration_data_text_splitter.split_documents(intents_configuration_data)"
   ]
  },
  {
   "cell_type": "code",
   "execution_count": 20,
   "metadata": {},
   "outputs": [],
   "source": [
    "chuncked_LogData_thuegaenergie = LogData_thuegaenergie_text_splitter.split_documents(LogData_thuegaenergie)"
   ]
  },
  {
   "cell_type": "code",
   "execution_count": 21,
   "metadata": {},
   "outputs": [],
   "source": [
    "chuncked_thuegaenergie_company_data = thuegaenergie_company_data_text_splitter.split_documents(thuegaenergie_company_data)"
   ]
  },
  {
   "cell_type": "code",
   "execution_count": 22,
   "metadata": {},
   "outputs": [],
   "source": [
    "from langchain_community.vectorstores import Chroma"
   ]
  },
  {
   "cell_type": "code",
   "execution_count": null,
   "metadata": {},
   "outputs": [],
   "source": [
    "intents_configuration_data_vectorstore = Chroma.from_documents(chuncked_intents_configuration_data, embed, persist_directory=\"C:/chuncked_intents_configuration_db\")\n",
    "intents_configuration_data_vectorstore.persist()\n",
    "erp_data_vectorstore = Chroma.from_documents(chuncked_erp_data, embed, persist_directory=\"C:/erp_db\")\n",
    "erp_data_vectorstore.persist()\n",
    "LogData_thuegaenergie_vectorstore = Chroma.from_documents(chuncked_LogData_thuegaenergie, embed, persist_directory=\"C:/LogData_thuegaenergie_db\")\n",
    "LogData_thuegaenergie_vectorstore.persist()\n",
    "thuegaenergie_company_data_vectorstore = Chroma.from_documents(chuncked_thuegaenergie_company_data, embed, persist_directory=\"C:/thuegaenergie_company_db\")\n",
    "thuegaenergie_company_data_vectorstore.persist()"
   ]
  },
  {
   "cell_type": "code",
   "execution_count": 23,
   "metadata": {},
   "outputs": [],
   "source": [
    "intents_configuration_data_vectorstore2 = Chroma(persist_directory=\"C:/chuncked_intents_configuration_db\", embedding_function=embed)\n",
    "erp_data_vectorstore2 = Chroma(persist_directory=\"C:/erp_db\", embedding_function=embed)\n",
    "LogData_thuegaenergie_vectorstore2 = Chroma(persist_directory=\"C:/LogData_thuegaenergie_db\", embedding_function=embed)\n",
    "thuegaenergie_company_data_vectorstore2 = Chroma(persist_directory=\"C:/thuegaenergie_company_db\", embedding_function=embed)\n"
   ]
  },
  {
   "cell_type": "code",
   "execution_count": 24,
   "metadata": {},
   "outputs": [],
   "source": [
    "retriever1 = intents_configuration_data_vectorstore2.as_retriever(search_type=\"similarity\", search_kwargs={\"k\":3})\n",
    "retriever2 = erp_data_vectorstore2.as_retriever(search_type=\"similarity\", search_kwargs={\"k\":3})\n",
    "retriever4 = LogData_thuegaenergie_vectorstore2.as_retriever(search_type=\"similarity\", search_kwargs={\"k\":3})\n",
    "retriever5 = thuegaenergie_company_data_vectorstore2.as_retriever(search_type=\"similarity\", search_kwargs={\"k\":3})"
   ]
  },
  {
   "cell_type": "code",
   "execution_count": 25,
   "metadata": {},
   "outputs": [],
   "source": [
    "from langchain.tools.retriever import create_retriever_tool"
   ]
  },
  {
   "cell_type": "code",
   "execution_count": 26,
   "metadata": {},
   "outputs": [],
   "source": [
    "intents_configuration_data_retriever_tool=create_retriever_tool(retriever1,\"intents_configuration_search\",\n",
    "                      \"Search for information about Intents and Configurations Overview. For any questions about Intents and Configurations, you must use this tool!\")\n",
    "\n",
    "erp_data_retriever_tool=create_retriever_tool(retriever2,\"erpdatabase_search\",\n",
    "                      \"Search for information about Customerdata and meterreading. For any questions about Customerdata and meterreading, you must use this tool!\")\n",
    "\n",
    "LogData_thuegaenergie_retriever_tool=create_retriever_tool(retriever4,\"thuegaenergielogdata_search\",\n",
    "                      \"Search for information about Logdata of Thuegaenergie. For any questions about Logdata of Thuegaenergie, you must use this tool!\")\n",
    "\n",
    "thuegaenergie_company_data_retriever_tool=create_retriever_tool(retriever5,\"thuegaenergiecompany_search\",\n",
    "                      \"Search for information about thuegaenergie company. For any questions about thuegaenergie company, you must use this tool!\")\n"
   ]
  },
  {
   "cell_type": "code",
   "execution_count": 27,
   "metadata": {},
   "outputs": [],
   "source": [
    "from langchain_community.tools import WikipediaQueryRun\n",
    "from langchain_community.utilities import WikipediaAPIWrapper\n",
    "api_wrapper=WikipediaAPIWrapper(top_k_results=1,doc_content_chars_max=200)\n",
    "wiki=WikipediaQueryRun(api_wrapper=api_wrapper)"
   ]
  },
  {
   "cell_type": "code",
   "execution_count": 29,
   "metadata": {},
   "outputs": [],
   "source": [
    "from langchain.pydantic_v1 import BaseModel, Field\n",
    "from langchain.tools import BaseTool, StructuredTool, tool"
   ]
  },
  {
   "cell_type": "code",
   "execution_count": 78,
   "metadata": {},
   "outputs": [],
   "source": [
    "tools=[intents_configuration_data_retriever_tool, erp_data_retriever_tool, LogData_thuegaenergie_retriever_tool, thuegaenergie_company_data_retriever_tool, wiki ]"
   ]
  },
  {
   "cell_type": "code",
   "execution_count": 102,
   "metadata": {},
   "outputs": [],
   "source": [
    "from langchain import hub\n",
    "prompt = hub.pull(\"hwchase17/openai-functions-agent\")"
   ]
  },
  {
   "cell_type": "code",
   "execution_count": 103,
   "metadata": {},
   "outputs": [],
   "source": [
    "from langchain.agents import create_openai_tools_agent\n",
    "agent=create_openai_tools_agent(gpt,tools,prompt)"
   ]
  },
  {
   "cell_type": "code",
   "execution_count": 115,
   "metadata": {},
   "outputs": [],
   "source": [
    "from langchain.agents import AgentExecutor\n",
    "agent_executor=AgentExecutor(agent=agent,tools=tools,verbose=True)\n"
   ]
  },
  {
   "cell_type": "code",
   "execution_count": 117,
   "metadata": {},
   "outputs": [
    {
     "name": "stdout",
     "output_type": "stream",
     "text": [
      "\n",
      "\n",
      "\u001b[1m> Entering new AgentExecutor chain...\u001b[0m\n",
      "\u001b[32;1m\u001b[1;3m\n",
      "Invoking: `erpdatabase_search` with `{'query': 'delete historical meter readings'}`\n",
      "\n",
      "\n",
      "\u001b[0m\u001b[33;1m\u001b[1;3m{\"meters\": [{\"meterId\": 1244, \"meterNumber\": \"ZEI2332DE2\", \"section\": \"Power\", \"validFrom\": null, \"validTo\": \"2023-05-04 23:59:59\", \"readable\": false, \"meterType\": \"ZTZ\", \"digitsBeforeDecimal\": 5, \"digitsAfterDecimal\": 0, \"register\": [{\"registerId\": 1, \"obis\": \"1-1:1.8.1\", \"label\": \"HT\", \"expectedLowerBound\": 4554, \"expectedUpperBound\": 5287}, {\"registerId\": 2, \"obis\": \"1-1:1.8.2\", \"label\": \"NT\", \"expectedLowerBound\": 3432, \"expectedUpperBound\": 3657}]}, {\"meterId\": 32423, \"meterNumber\": \"972922\", \"section\": \"Power\", \"validFrom\": \"2023-05-05 00:00:00\", \"validTo\": null, \"readable\": true, \"meterType\": \"ZTZ\", \"register\": [{\"registerId\": 1, \"obis\": \"1-1:1.8.1\", \"label\": \"HT\", \"expectedLowerBound\": 0, \"expectedUpperBound\": 658}, {\"registerId\": 2, \"obis\": \"1-1:1.8.2\", \"label\": \"NT\", \"expectedLowerBound\": 0, \"expectedUpperBound\": 360}]}]}\n",
      "\n",
      "{\"meters\": [{\"meterId\": 1244, \"meterNumber\": \"ZEI2332DE2\", \"section\": \"Power\", \"validFrom\": null, \"validTo\": \"2023-05-04 23:59:59\", \"readable\": false, \"meterType\": \"ZTZ\", \"digitsBeforeDecimal\": 5, \"digitsAfterDecimal\": 0, \"register\": [{\"registerId\": 1, \"obis\": \"1-1:1.8.1\", \"label\": \"HT\", \"expectedLowerBound\": 4554, \"expectedUpperBound\": 5287}, {\"registerId\": 2, \"obis\": \"1-1:1.8.2\", \"label\": \"NT\", \"expectedLowerBound\": 3432, \"expectedUpperBound\": 3657}]}, {\"meterId\": 32423, \"meterNumber\": \"972922\", \"section\": \"Power\", \"validFrom\": \"2023-05-05 00:00:00\", \"validTo\": null, \"readable\": true, \"meterType\": \"ZTZ\", \"register\": [{\"registerId\": 1, \"obis\": \"1-1:1.8.1\", \"label\": \"HT\", \"expectedLowerBound\": 0, \"expectedUpperBound\": 658}, {\"registerId\": 2, \"obis\": \"1-1:1.8.2\", \"label\": \"NT\", \"expectedLowerBound\": 0, \"expectedUpperBound\": 360}]}]}\n",
      "\n",
      "{\"meters\": [{\"meterId\": 1244, \"meterNumber\": \"ZEI2332DE2\", \"section\": \"Power\", \"validFrom\": null, \"validTo\": \"2023-05-04 23:59:59\", \"readable\": false, \"meterType\": \"ZTZ\", \"digitsBeforeDecimal\": 5, \"digitsAfterDecimal\": 0, \"register\": [{\"registerId\": 1, \"obis\": \"1-1:1.8.1\", \"label\": \"HT\", \"expectedLowerBound\": 4554, \"expectedUpperBound\": 5287}, {\"registerId\": 2, \"obis\": \"1-1:1.8.2\", \"label\": \"NT\", \"expectedLowerBound\": 3432, \"expectedUpperBound\": 3657}]}, {\"meterId\": 32423, \"meterNumber\": \"972922\", \"section\": \"Power\", \"validFrom\": \"2023-05-05 00:00:00\", \"validTo\": null, \"readable\": true, \"meterType\": \"ZTZ\", \"register\": [{\"registerId\": 1, \"obis\": \"1-1:1.8.1\", \"label\": \"HT\", \"expectedLowerBound\": 0, \"expectedUpperBound\": 658}, {\"registerId\": 2, \"obis\": \"1-1:1.8.2\", \"label\": \"NT\", \"expectedLowerBound\": 0, \"expectedUpperBound\": 360}]}]}\u001b[0m\u001b[32;1m\u001b[1;3m\n",
      "Invoking: `intents_configuration_search` with `{'query': 'metering systems automate reading collection and consumption data'}`\n",
      "\n",
      "\n",
      "\u001b[0m\u001b[36;1m\u001b[1;3manswerId: 103109\n",
      "text: **Zählerstands- und Verbrauchsdaten** werden lediglich **bei intelligenten Messsystemen automatisiert erfasst**. In der Regel werden diese alle 15 Minuten an das Smart-Meter-Gateway weitergeleitet. Hier werden die Daten verarbeitet und über das Mobilfunknetz an den jeweiligen Messstellenbetreiber übermittelt.  Für genauere Informationen wenden Sie sich am besten direkt an Ihren **Netzbetreiber** oder **Messstellenbetreiber**. Diesen finden Sie u. a. auf Ihrer letzten Strom- oder Gasrechnung sowie auf Ihrem Zähler.\n",
      "identificatorKey: \n",
      "identificatorId: 0\n",
      "identificatorReadableName: \n",
      "identificatorDescription: \n",
      "answer_configId: 52377\n",
      "type: multi\n",
      "customer: thuegaenergie\n",
      "virtualIntentName: Verarbeitung von Zählerdaten\n",
      "intent: meterDataProcessing\n",
      "entityName: noneEntity\n",
      "normalizedEntityValue: noneNormalizedValue\n",
      "answer_channel: default\n",
      "redirect_to_config: 0\n",
      "readable_redirect_to_config: \n",
      "cancelButtonLabel: abbrechen\n",
      "entityId: 0\n",
      "entity_key: \n",
      "adaptive_cards_length:\n",
      "\n",
      "answerId: 102348\n",
      "text: Ein **intelligentes Messsystem** (**Smart Meter**) registriert kontinuierlich den Verbrauch und speichert präzise ab, zu welcher Zeit wie viel Strom benötigt wird. Das **Ablesen** des Zählers sowie das **Übermitteln** von Zählerständen an den Energieversorger **entfällt** dadurch.  Moderne Messeinrichtungen können mit einem sogenannten **Gateway** zu einem Smart Meter aufgerüstet werden. Mithilfe dieser Kommunikationseinheit wird eine Fernauslesung möglich gemacht.  ?? Moderne Messeinrichtung + Gateway = Intelligentes Messsystem\n",
      "identificatorKey: \n",
      "identificatorId: 0\n",
      "identificatorReadableName: \n",
      "identificatorDescription: \n",
      "answer_configId: 50278\n",
      "type: multi\n",
      "customer: thuegaenergie\n",
      "virtualIntentName: Zählertyp Smarter Zähler\n",
      "intent: meterTypeInfo\n",
      "entityName: meterType_L\n",
      "normalizedEntityValue: Smarter Zähler\n",
      "answer_channel: default\n",
      "redirect_to_config: 0\n",
      "readable_redirect_to_config: \n",
      "cancelButtonLabel: abbrechen\n",
      "entityId: 0\n",
      "entity_key: \n",
      "adaptive_cards_length:\n",
      "\n",
      "answerId: 102348\n",
      "text: Ein **intelligentes Messsystem** (**Smart Meter**) registriert kontinuierlich den Verbrauch und speichert prÃ¤zise ab, zu welcher Zeit wie viel Strom benÃ¶tigt wird. Das **Ablesen** des ZÃ¤hlers sowie das **Ãœbermitteln** von ZÃ¤hlerstÃ¤nden an den Energieversorger **entfÃ¤llt** dadurch.  Moderne Messeinrichtungen kÃ¶nnen mit einem sogenannten **Gateway** zu einem Smart Meter aufgerÃ¼stet werden. Mithilfe dieser Kommunikationseinheit wird eine Fernauslesung mÃ¶glich gemacht.  ?? Moderne Messeinrichtung + Gateway = Intelligentes Messsystem\n",
      "identificatorKey: \n",
      "identificatorId: 0\n",
      "identificatorReadableName: \n",
      "identificatorDescription: \n",
      "answer_configId: 50278\n",
      "type: multi\n",
      "customer: thuegaenergie\n",
      "virtualIntentName: ZÃ¤hlertyp Smarter ZÃ¤hler\n",
      "intent: meterTypeInfo\n",
      "entityName: meterType_L\n",
      "normalizedEntityValue: Smarter ZÃ¤hler\n",
      "answer_channel: default\n",
      "redirect_to_config: 0\n",
      "readable_redirect_to_config: \n",
      "cancelButtonLabel: abbrechen\n",
      "entityId: 0\n",
      "entity_key:\u001b[0m\u001b[32;1m\u001b[1;3mTo delete historical meter readings, you would need to contact your metering service provider or metering operator for assistance with this process. They will be able to guide you on the specific steps required to delete historical meter readings from your system.\n",
      "\n",
      "As for metering systems that automate reading collection and consumption data, intelligent metering systems, also known as Smart Meters, are capable of automating the collection and storage of consumption data. These systems continuously register consumption and can transmit meter readings to the energy supplier without the need for manual reading. Modern metering devices can be upgraded with a gateway to enable remote reading, making them part of an intelligent metering system.\n",
      "\n",
      "If you have further questions or need assistance with specific metering systems, I recommend reaching out to your network operator or metering service provider for detailed information and support.\u001b[0m\n",
      "\n",
      "\u001b[1m> Finished chain.\u001b[0m\n"
     ]
    },
    {
     "data": {
      "text/plain": [
       "{'input': 'How do I delete historical meter readings and what metering systems automate reading collection and consumption data?',\n",
       " 'output': 'To delete historical meter readings, you would need to contact your metering service provider or metering operator for assistance with this process. They will be able to guide you on the specific steps required to delete historical meter readings from your system.\\n\\nAs for metering systems that automate reading collection and consumption data, intelligent metering systems, also known as Smart Meters, are capable of automating the collection and storage of consumption data. These systems continuously register consumption and can transmit meter readings to the energy supplier without the need for manual reading. Modern metering devices can be upgraded with a gateway to enable remote reading, making them part of an intelligent metering system.\\n\\nIf you have further questions or need assistance with specific metering systems, I recommend reaching out to your network operator or metering service provider for detailed information and support.'}"
      ]
     },
     "execution_count": 117,
     "metadata": {},
     "output_type": "execute_result"
    }
   ],
   "source": [
    "agent_executor.invoke({\"input\":\"How do I delete historical meter readings and what metering systems automate reading collection and consumption data?\"})"
   ]
  },
  {
   "cell_type": "code",
   "execution_count": 106,
   "metadata": {},
   "outputs": [
    {
     "name": "stdout",
     "output_type": "stream",
     "text": [
      "Answer: The meter number for meter ID 1244 is \"ZEI2332DE2\".\n"
     ]
    }
   ],
   "source": [
    "def get_response(question):\n",
    "    result = agent_executor.invoke({\"input\": question})\n",
    "    response = result.get(\"output\", \"\")\n",
    "    \n",
    "    return {\n",
    "        \"answer\": response,\n",
    "    }\n",
    "question = \"What is the meter number for meter id 1244\"\n",
    "response = get_response(question)\n",
    "print(\"Answer:\", response[\"answer\"])\n"
   ]
  },
  {
   "cell_type": "markdown",
   "metadata": {},
   "source": [
    "Evaluation"
   ]
  },
  {
   "cell_type": "code",
   "execution_count": 107,
   "metadata": {},
   "outputs": [],
   "source": [
    "from langsmith import Client\n",
    "client = Client()"
   ]
  },
  {
   "cell_type": "code",
   "execution_count": 56,
   "metadata": {},
   "outputs": [],
   "source": [
    "from langchain_openai import ChatOpenAI\n",
    "from langchain_core.prompts import ChatPromptTemplate\n",
    "from langchain_core.output_parsers import StrOutputParser\n",
    "from langsmith.evaluation import evaluate, LangChainStringEvaluator"
   ]
  },
  {
   "cell_type": "code",
   "execution_count": 108,
   "metadata": {},
   "outputs": [],
   "source": [
    "inputs = [\n",
    "    \n",
    "    \"What is the meter number for meterId 1244 and what is its meter type?\",\n",
    "    \"What is the Gas contract number, start of the contract, city, of the customer named Sebastian?\",\n",
    "    \"What services does Thuga Energie provide as a regional partner in the Hegau-Bodensee, Rhein-Pfalz, and Allgau-Oberschwaben regions?\",\n",
    "    \"What options are there for making changes in our Kundenportal, and how can open questions be resolved with Kundenservice?\",\n",
    "    \"What are PV Modules?\",\n",
    "\n",
    "    \n",
    "]\n",
    "\n",
    "outputs = [\n",
    "    \n",
    "    \"The meter number for meterId 1244 is ZEI2332DE2 and its meter type is ZTZ\",\n",
    "    \"The Gas contract number is ES00000062980, the IBAN is DE89370400440532013000, the start of the contract is 2022-03-14, and the city is Lauenburg\",\n",
    "    \"Thuga Energie provides innovative products such as Erdgas, Strom, WÃrme, Photovoltaik, and Mobilität. They also offer comprehensive Beratung and Dienstleistungen to their customers.\",\n",
    "    \"The Kundenportal offers the option to make changes online at any time, and open questions can be resolved with the Kundenservice through online communication. Additionally, human colleagues are available to assist with any queries. Rechnungen are received via email, and payments can be made through direct debit or bank transfer.\",\n",
    "    \"PV modules are also known as photovoltaic modules, they are solar panels that convert sunlight into electricity.  The electricity generated by PV modules can be used for various purposes, including powering homes, businesses, and other electrical devices. PV modules are commonly used in solar energy systems to harness renewable energy from the sun.\",\n",
    "    \n",
    "]\n",
    "qa_pairs = [{\"question\": q, \"answer\": a} for q, a in zip(inputs, outputs)]\n",
    "\n"
   ]
  },
  {
   "cell_type": "code",
   "execution_count": 109,
   "metadata": {},
   "outputs": [],
   "source": [
    "client = Client()\n",
    "dataset_name = \"Agents_testset\"\n",
    "dataset = client.create_dataset(\n",
    "    dataset_name=dataset_name,\n",
    "    description=\"QA pairs about EnergyIndustry.\",\n",
    ")"
   ]
  },
  {
   "cell_type": "code",
   "execution_count": 110,
   "metadata": {},
   "outputs": [],
   "source": [
    "client.create_examples(\n",
    "    inputs=[{\"question\": q} for q in inputs],\n",
    "    outputs=[{\"answer\": a} for a in outputs],\n",
    "    dataset_id=dataset.id,\n",
    ")"
   ]
  },
  {
   "cell_type": "code",
   "execution_count": 60,
   "metadata": {},
   "outputs": [],
   "source": [
    "from langchain_openai import AzureChatOpenAI\n",
    "\n",
    "gpt4 = AzureChatOpenAI(\n",
    "    azure_deployment=\"gpt-4-128k\",\n",
    "    openai_api_key=\"7c3f9550b69c419aa0f1830e338ff562\",\n",
    "    openai_api_type=\"azure\",\n",
    "    openai_api_version=\"2023-12-01-preview\",\n",
    "    azure_endpoint=\"https://chatbotopenaikeyswe.openai.azure.com/\",\n",
    "    verbose=True,\n",
    ")"
   ]
  },
  {
   "cell_type": "code",
   "execution_count": 111,
   "metadata": {},
   "outputs": [],
   "source": [
    "# RAG chain\n",
    "def predict_rag_answer(example: dict):\n",
    "    \"\"\"Use this for answer evaluation\"\"\"\n",
    "    response = get_response(example[\"question\"])\n",
    "    return {\"answer\": response[\"answer\"]}"
   ]
  },
  {
   "cell_type": "code",
   "execution_count": 112,
   "metadata": {},
   "outputs": [
    {
     "name": "stdout",
     "output_type": "stream",
     "text": [
      "View the evaluation results for experiment: 'agents-qa-oai-qaevaluator-bfaf34f9' at:\n",
      "https://smith.langchain.com/o/193e2b09-24bf-506a-879c-4ee7e4127ca4/datasets/da9f9c57-3cb1-496b-b04e-cac9093d895c/compare?selectedSessions=f6e523e1-2bdd-4d43-8b89-58da4c1e32d4\n",
      "\n",
      "\n"
     ]
    },
    {
     "name": "stderr",
     "output_type": "stream",
     "text": [
      "5it [00:11,  2.21s/it]\n"
     ]
    }
   ],
   "source": [
    "from langsmith.evaluation import evaluate, LangChainStringEvaluator\n",
    "from langchain_core.prompts.prompt import PromptTemplate\n",
    "eval_llm = gpt4\n",
    "\n",
    "qa_evaluator = [LangChainStringEvaluator(\"qa\", config={\"llm\": eval_llm},\n",
    "                                         prepare_data=lambda run, example: {\n",
    "                                             \"prediction\": run.outputs[\"answer\"],\n",
    "                                             \"reference\": example.outputs[\"answer\"],\n",
    "                                             \"input\": example.inputs[\"question\"],\n",
    "                                         } )]\n",
    "\n",
    "dataset_name = \"Agents_testset\"\n",
    "\n",
    "experiment_results = evaluate(\n",
    "    predict_rag_answer,\n",
    "    data=dataset_name,\n",
    "    evaluators= qa_evaluator,\n",
    "    experiment_prefix=\"agents-qa-oai-qaevaluator\",\n",
    "    \n",
    "    \n",
    ")"
   ]
  },
  {
   "cell_type": "code",
   "execution_count": 113,
   "metadata": {},
   "outputs": [
    {
     "name": "stdout",
     "output_type": "stream",
     "text": [
      "View the evaluation results for experiment: 'agents-qa-oai-cot-qaevaluator-15619381' at:\n",
      "https://smith.langchain.com/o/193e2b09-24bf-506a-879c-4ee7e4127ca4/datasets/da9f9c57-3cb1-496b-b04e-cac9093d895c/compare?selectedSessions=01e8e923-3ba8-40a8-813c-3979b311b9c9\n",
      "\n",
      "\n"
     ]
    },
    {
     "name": "stderr",
     "output_type": "stream",
     "text": [
      "5it [00:31,  6.33s/it]\n"
     ]
    }
   ],
   "source": [
    "from langsmith.evaluation import evaluate, LangChainStringEvaluator\n",
    "from langchain_core.prompts.prompt import PromptTemplate\n",
    "eval_llm = gpt4\n",
    "\n",
    "\n",
    "cot_qa_evaluator = [LangChainStringEvaluator(\"cot_qa\", config={\"llm\": eval_llm},\n",
    "                                         prepare_data=lambda run, example: {\n",
    "                                             \"prediction\": run.outputs[\"answer\"],\n",
    "                                             \"reference\": example.outputs[\"answer\"],\n",
    "                                             \"input\": example.inputs[\"question\"],\n",
    "                                         } )]\n",
    "#qa_evalulator = [LangChainStringEvaluator(\"cot_qa\")]\n",
    "dataset_name = \"Agents_testset\"\n",
    "\n",
    "experiment_results = evaluate(\n",
    "    predict_rag_answer,\n",
    "    data=dataset_name,\n",
    "    evaluators= cot_qa_evaluator,\n",
    "    experiment_prefix=\"agents-qa-oai-cot-qaevaluator\",\n",
    "    \n",
    "    \n",
    ")"
   ]
  },
  {
   "cell_type": "code",
   "execution_count": 114,
   "metadata": {},
   "outputs": [
    {
     "name": "stdout",
     "output_type": "stream",
     "text": [
      "View the evaluation results for experiment: 'agents-qa-oai-contextual accuracy-5c8819b2' at:\n",
      "https://smith.langchain.com/o/193e2b09-24bf-506a-879c-4ee7e4127ca4/datasets/da9f9c57-3cb1-496b-b04e-cac9093d895c/compare?selectedSessions=bc46789e-68f0-477a-9438-ee34a7ac3238\n",
      "\n",
      "\n"
     ]
    },
    {
     "name": "stderr",
     "output_type": "stream",
     "text": [
      "5it [00:10,  2.03s/it]\n"
     ]
    }
   ],
   "source": [
    "from langsmith.evaluation import evaluate, LangChainStringEvaluator\n",
    "from langchain_core.prompts.prompt import PromptTemplate\n",
    "eval_llm = gpt4\n",
    "\n",
    "\n",
    "context_qa_evaluator = [LangChainStringEvaluator(\"context_qa\", config={\"llm\": eval_llm},\n",
    "                                         prepare_data=lambda run, example: {\n",
    "                                             \"prediction\": run.outputs[\"answer\"],\n",
    "                                             \"reference\": example.outputs[\"answer\"],\n",
    "                                             \"input\": example.inputs[\"question\"],\n",
    "                                         } )]\n",
    "\n",
    "dataset_name = \"Agents_testset\"\n",
    "\n",
    "experiment_results = evaluate(\n",
    "    predict_rag_answer,\n",
    "    data=dataset_name,\n",
    "    evaluators= context_qa_evaluator,\n",
    "    experiment_prefix=\"agents-qa-oai-contextual accuracy\",\n",
    "    \n",
    "    \n",
    ")"
   ]
  }
 ],
 "metadata": {
  "kernelspec": {
   "display_name": "Python 3",
   "language": "python",
   "name": "python3"
  },
  "language_info": {
   "codemirror_mode": {
    "name": "ipython",
    "version": 3
   },
   "file_extension": ".py",
   "mimetype": "text/x-python",
   "name": "python",
   "nbconvert_exporter": "python",
   "pygments_lexer": "ipython3",
   "version": "3.12.3"
  }
 },
 "nbformat": 4,
 "nbformat_minor": 2
}
